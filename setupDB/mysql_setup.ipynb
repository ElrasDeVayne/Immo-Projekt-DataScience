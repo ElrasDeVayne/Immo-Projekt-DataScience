{
 "cells": [
  {
   "cell_type": "code",
   "execution_count": 1,
   "metadata": {},
   "outputs": [
    {
     "name": "stdout",
     "output_type": "stream",
     "text": [
      "Requirement already satisfied: mysql-connector in c:\\users\\anninaberweger\\appdata\\local\\programs\\python\\python311\\lib\\site-packages (2.2.9)\n",
      "Note: you may need to restart the kernel to use updated packages.\n"
     ]
    },
    {
     "name": "stderr",
     "output_type": "stream",
     "text": [
      "\n",
      "[notice] A new release of pip is available: 23.2.1 -> 24.0\n",
      "[notice] To update, run: python.exe -m pip install --upgrade pip\n"
     ]
    }
   ],
   "source": [
    "pip install mysql-connector"
   ]
  },
  {
   "cell_type": "code",
   "execution_count": 2,
   "metadata": {},
   "outputs": [
    {
     "name": "stdout",
     "output_type": "stream",
     "text": [
      "Connected to MySQL server\n",
      "Tables created successfully\n",
      "MySQL connection closed\n"
     ]
    }
   ],
   "source": [
    "import mysql.connector\n",
    "from mysql.connector import Error\n",
    "import pandas as pd\n",
    "\n",
    "# MySQL connection parameters\n",
    "host = '127.0.0.1'\n",
    "port = '13306'\n",
    "user = 'admin'\n",
    "password = 'admin123'\n",
    "database = 'immo'  \n",
    "try:\n",
    "    connection = mysql.connector.connect(host=host,\n",
    "                                         port=port,\n",
    "                                         user=user,\n",
    "                                         password=password,\n",
    "                                         database=database)\n",
    "\n",
    "    if connection.is_connected():\n",
    "        print(\"Connected to MySQL server\")\n",
    "        cursor = connection.cursor()\n",
    "\n",
    "        query = \"\"\"\n",
    "        CREATE TABLE IF NOT EXISTS Location (\n",
    "            LocationId VARCHAR(50) PRIMARY KEY,\n",
    "            Street VARCHAR(150) NULL,\n",
    "            ZIP INT NULL,\n",
    "            longitude VARCHAR(50),\n",
    "            latitude VARCHAR(50)\n",
    "        );\n",
    "\n",
    "        CREATE TABLE IF NOT EXISTS Property (\n",
    "            ListingId VARCHAR(50) NULL,\n",
    "            Timestamp DATETIME NULL,\n",
    "            Rooms DECIMAL(5, 1) NULL,\n",
    "            SquareMeter INT NULL,\n",
    "            Floor VARCHAR(50) NULL,\n",
    "            Availability VARCHAR(100) NULL,\n",
    "            ObjectType VARCHAR(50) NULL,\n",
    "            YearBuilt DATE NULL,\n",
    "            Price DECIMAL(18, 2) NULL,\n",
    "            AdditionalCost DECIMAL(18, 2) NULL,\n",
    "            NetPrice DECIMAL(18, 2) NULL,\n",
    "            LocationId VARCHAR(50) NULL,\n",
    "            PropertyAdditionalFeaturesId VARCHAR(50) NULL,\n",
    "            PropertyDescription VARCHAR(4000) NULL,\n",
    "            Vendor VARCHAR(50) NULL,\n",
    "            Canton VARCHAR(50) NULL,\n",
    "            FOREIGN KEY (LocationId) REFERENCES Location(LocationId)\n",
    "        );\n",
    "\n",
    "        CREATE TABLE IF NOT EXISTS PropertyAdditionalFeatures (\n",
    "            ListingId VARCHAR(50) NULL,\n",
    "            Feature VARCHAR(250) NULL\n",
    "        );\n",
    "        \"\"\"\n",
    "\n",
    "\n",
    "        cursor.execute(query, multi=True)\n",
    "        print(\"Tables created successfully\")\n",
    "\n",
    "except Error as e:\n",
    "    print(\"Error connecting to MySQL:\", e)\n",
    "\n",
    "finally:\n",
    "    if connection.is_connected():\n",
    "        # Close cursor and connection\n",
    "        cursor.close()\n",
    "        connection.close()\n",
    "        print(\"MySQL connection closed\")"
   ]
  },
  {
   "cell_type": "code",
   "execution_count": 4,
   "metadata": {},
   "outputs": [
    {
     "name": "stdout",
     "output_type": "stream",
     "text": [
      "(11352, 5)\n",
      "(11295, 5)\n"
     ]
    },
    {
     "ename": "ProgrammingError",
     "evalue": "1146 (42S02): Table 'immo.Location' doesn't exist",
     "output_type": "error",
     "traceback": [
      "\u001b[1;31m---------------------------------------------------------------------------\u001b[0m",
      "\u001b[1;31mProgrammingError\u001b[0m                          Traceback (most recent call last)",
      "Cell \u001b[1;32mIn[4], line 58\u001b[0m\n\u001b[0;32m     55\u001b[0m     latitude \u001b[38;5;241m=\u001b[39m row[\u001b[38;5;124m'\u001b[39m\u001b[38;5;124mlatitude\u001b[39m\u001b[38;5;124m'\u001b[39m]\n\u001b[0;32m     57\u001b[0m     \u001b[38;5;66;03m# Execute the SQL query to insert data into the Location table\u001b[39;00m\n\u001b[1;32m---> 58\u001b[0m     \u001b[43mcursor\u001b[49m\u001b[38;5;241;43m.\u001b[39;49m\u001b[43mexecute\u001b[49m\u001b[43m(\u001b[49m\u001b[43minsert_query\u001b[49m\u001b[43m,\u001b[49m\u001b[43m \u001b[49m\u001b[43m(\u001b[49m\u001b[43mlocation_id\u001b[49m\u001b[43m,\u001b[49m\u001b[43m \u001b[49m\u001b[43mstreet\u001b[49m\u001b[43m,\u001b[49m\u001b[43m \u001b[49m\u001b[43mzip_code\u001b[49m\u001b[43m,\u001b[49m\u001b[43m \u001b[49m\u001b[43mlongitude\u001b[49m\u001b[43m,\u001b[49m\u001b[43m \u001b[49m\u001b[43mlatitude\u001b[49m\u001b[43m)\u001b[49m\u001b[43m)\u001b[49m\n\u001b[0;32m     60\u001b[0m \u001b[38;5;66;03m# Commit changes and close the connection\u001b[39;00m\n\u001b[0;32m     61\u001b[0m conn\u001b[38;5;241m.\u001b[39mcommit()\n",
      "File \u001b[1;32mc:\\Users\\AnninaBerweger\\AppData\\Local\\Programs\\Python\\Python311\\Lib\\site-packages\\mysql\\connector\\cursor.py:551\u001b[0m, in \u001b[0;36mMySQLCursor.execute\u001b[1;34m(self, operation, params, multi)\u001b[0m\n\u001b[0;32m    549\u001b[0m \u001b[38;5;28;01melse\u001b[39;00m:\n\u001b[0;32m    550\u001b[0m     \u001b[38;5;28;01mtry\u001b[39;00m:\n\u001b[1;32m--> 551\u001b[0m         \u001b[38;5;28mself\u001b[39m\u001b[38;5;241m.\u001b[39m_handle_result(\u001b[38;5;28;43mself\u001b[39;49m\u001b[38;5;241;43m.\u001b[39;49m\u001b[43m_connection\u001b[49m\u001b[38;5;241;43m.\u001b[39;49m\u001b[43mcmd_query\u001b[49m\u001b[43m(\u001b[49m\u001b[43mstmt\u001b[49m\u001b[43m)\u001b[49m)\n\u001b[0;32m    552\u001b[0m     \u001b[38;5;28;01mexcept\u001b[39;00m errors\u001b[38;5;241m.\u001b[39mInterfaceError:\n\u001b[0;32m    553\u001b[0m         \u001b[38;5;28;01mif\u001b[39;00m \u001b[38;5;28mself\u001b[39m\u001b[38;5;241m.\u001b[39m_connection\u001b[38;5;241m.\u001b[39m_have_next_result:  \u001b[38;5;66;03m# pylint: disable=W0212\u001b[39;00m\n",
      "File \u001b[1;32mc:\\Users\\AnninaBerweger\\AppData\\Local\\Programs\\Python\\Python311\\Lib\\site-packages\\mysql\\connector\\connection.py:490\u001b[0m, in \u001b[0;36mMySQLConnection.cmd_query\u001b[1;34m(self, query, raw, buffered, raw_as_string)\u001b[0m\n\u001b[0;32m    488\u001b[0m \u001b[38;5;28;01mif\u001b[39;00m \u001b[38;5;129;01mnot\u001b[39;00m \u001b[38;5;28misinstance\u001b[39m(query, \u001b[38;5;28mbytes\u001b[39m):\n\u001b[0;32m    489\u001b[0m     query \u001b[38;5;241m=\u001b[39m query\u001b[38;5;241m.\u001b[39mencode(\u001b[38;5;124m'\u001b[39m\u001b[38;5;124mutf-8\u001b[39m\u001b[38;5;124m'\u001b[39m)\n\u001b[1;32m--> 490\u001b[0m result \u001b[38;5;241m=\u001b[39m \u001b[38;5;28;43mself\u001b[39;49m\u001b[38;5;241;43m.\u001b[39;49m\u001b[43m_handle_result\u001b[49m\u001b[43m(\u001b[49m\u001b[38;5;28;43mself\u001b[39;49m\u001b[38;5;241;43m.\u001b[39;49m\u001b[43m_send_cmd\u001b[49m\u001b[43m(\u001b[49m\u001b[43mServerCmd\u001b[49m\u001b[38;5;241;43m.\u001b[39;49m\u001b[43mQUERY\u001b[49m\u001b[43m,\u001b[49m\u001b[43m \u001b[49m\u001b[43mquery\u001b[49m\u001b[43m)\u001b[49m\u001b[43m)\u001b[49m\n\u001b[0;32m    492\u001b[0m \u001b[38;5;28;01mif\u001b[39;00m \u001b[38;5;28mself\u001b[39m\u001b[38;5;241m.\u001b[39m_have_next_result:\n\u001b[0;32m    493\u001b[0m     \u001b[38;5;28;01mraise\u001b[39;00m errors\u001b[38;5;241m.\u001b[39mInterfaceError(\n\u001b[0;32m    494\u001b[0m         \u001b[38;5;124m'\u001b[39m\u001b[38;5;124mUse cmd_query_iter for statements with multiple queries.\u001b[39m\u001b[38;5;124m'\u001b[39m)\n",
      "File \u001b[1;32mc:\\Users\\AnninaBerweger\\AppData\\Local\\Programs\\Python\\Python311\\Lib\\site-packages\\mysql\\connector\\connection.py:395\u001b[0m, in \u001b[0;36mMySQLConnection._handle_result\u001b[1;34m(self, packet)\u001b[0m\n\u001b[0;32m    393\u001b[0m     \u001b[38;5;28;01mreturn\u001b[39;00m \u001b[38;5;28mself\u001b[39m\u001b[38;5;241m.\u001b[39m_handle_eof(packet)\n\u001b[0;32m    394\u001b[0m \u001b[38;5;28;01melif\u001b[39;00m packet[\u001b[38;5;241m4\u001b[39m] \u001b[38;5;241m==\u001b[39m \u001b[38;5;241m255\u001b[39m:\n\u001b[1;32m--> 395\u001b[0m     \u001b[38;5;28;01mraise\u001b[39;00m errors\u001b[38;5;241m.\u001b[39mget_exception(packet)\n\u001b[0;32m    397\u001b[0m \u001b[38;5;66;03m# We have a text result set\u001b[39;00m\n\u001b[0;32m    398\u001b[0m column_count \u001b[38;5;241m=\u001b[39m \u001b[38;5;28mself\u001b[39m\u001b[38;5;241m.\u001b[39m_protocol\u001b[38;5;241m.\u001b[39mparse_column_count(packet)\n",
      "\u001b[1;31mProgrammingError\u001b[0m: 1146 (42S02): Table 'immo.Location' doesn't exist"
     ]
    }
   ],
   "source": [
    "import pandas as pd\n",
    "import mysql.connector\n",
    "import os\n",
    "import numpy as np\n",
    "\n",
    "# Connect to MySQL server\n",
    "conn = mysql.connector.connect(\n",
    "    host = '127.0.0.1',\n",
    "    port = '13306',\n",
    "    user = 'admin',\n",
    "    password = 'admin123',\n",
    "    database = 'immo'\n",
    ")\n",
    "\n",
    "# Go to correct directory:\n",
    "# Get the current working directory\n",
    "current_directory = os.getcwd()\n",
    "# Go back one directory (up one level)\n",
    "parent_directory = os.path.dirname(current_directory)\n",
    "# Go into the \"TablesDB\" folder\n",
    "tables_directory = os.path.join(parent_directory, \"TablesDB\")\n",
    "# Change the current working directory to the \"TablesDB\" folder\n",
    "os.chdir(tables_directory)\n",
    "\n",
    "\n",
    "csv_file_path = 'Location_v2.csv'\n",
    "\n",
    "# Read the CSV file into a pandas DataFrame\n",
    "df = pd.read_csv(csv_file_path, delimiter=\",\")\n",
    "df = pd.DataFrame(df)\n",
    "print(df.shape)\n",
    "df = df[df['ZIP']>0]\n",
    "print(df.shape)\n",
    "df['ZIP'] = df['ZIP'].astype(\"int64\")\n",
    "df['longitude'] = df['longitude'].astype(\"string\")\n",
    "df['latitude'] = df['latitude'].astype(\"string\")\n",
    "df = df.replace({np.nan:None})\n",
    "\n",
    "# Define the SQL statement for inserting data into the Location table\n",
    "insert_query = \"\"\"\n",
    "INSERT INTO Location (LocationId, Street, ZIP, longitude, latitude)\n",
    "VALUES (%s, %s, %s, %s, %s)\n",
    "\"\"\"\n",
    "\n",
    "# Create a cursor object\n",
    "cursor = conn.cursor()\n",
    "\n",
    "# Iterate over each row of the DataFrame and insert data into the Location table\n",
    "for index, row in df.iterrows():\n",
    "    # Extract data from the DataFrame row\n",
    "    location_id = row['LocationId']\n",
    "    street = row['Street']\n",
    "    zip_code = row['ZIP']\n",
    "    longitude = row['longitude']\n",
    "    latitude = row['latitude']\n",
    "\n",
    "    # Execute the SQL query to insert data into the Location table\n",
    "    cursor.execute(insert_query, (location_id, street, zip_code, longitude, latitude))\n",
    "\n",
    "# Commit changes and close the connection\n",
    "conn.commit()\n",
    "conn.close()\n"
   ]
  },
  {
   "cell_type": "code",
   "execution_count": null,
   "metadata": {},
   "outputs": [
    {
     "name": "stdout",
     "output_type": "stream",
     "text": [
      "/Users/jankuchli/Documents/ZHAW/2024-FS/applied_data_science/ADS_Projekt/Immo-Projekt-DataScience/setupDB\n",
      "/Users/jankuchli/Documents/ZHAW/2024-FS/applied_data_science/ADS_Projekt/Immo-Projekt-DataScience/TablesDB\n"
     ]
    }
   ],
   "source": [
    "import os\n",
    "\n",
    "print(os.getcwd())\n",
    "\n",
    "# Get the current working directory\n",
    "current_directory = os.getcwd()\n",
    "\n",
    "# Go back one directory (up one level)\n",
    "parent_directory = os.path.dirname(current_directory)\n",
    "\n",
    "# Go into the \"TablesDB\" folder\n",
    "tables_directory = os.path.join(parent_directory, \"TablesDB\")\n",
    "\n",
    "# Change the current working directory to the \"TablesDB\" folder\n",
    "os.chdir(tables_directory)\n",
    "\n",
    "print(os.getcwd())\n"
   ]
  },
  {
   "cell_type": "code",
   "execution_count": null,
   "metadata": {},
   "outputs": [
    {
     "data": {
      "text/html": [
       "<div>\n",
       "<style scoped>\n",
       "    .dataframe tbody tr th:only-of-type {\n",
       "        vertical-align: middle;\n",
       "    }\n",
       "\n",
       "    .dataframe tbody tr th {\n",
       "        vertical-align: top;\n",
       "    }\n",
       "\n",
       "    .dataframe thead th {\n",
       "        text-align: right;\n",
       "    }\n",
       "</style>\n",
       "<table border=\"1\" class=\"dataframe\">\n",
       "  <thead>\n",
       "    <tr style=\"text-align: right;\">\n",
       "      <th></th>\n",
       "      <th>LocationId</th>\n",
       "      <th>Street</th>\n",
       "      <th>ZIP</th>\n",
       "      <th>longitude</th>\n",
       "      <th>latitude</th>\n",
       "    </tr>\n",
       "  </thead>\n",
       "  <tbody>\n",
       "    <tr>\n",
       "      <th>9304</th>\n",
       "      <td>030641ca-357e-45cc-adae-fe056bc9a13a</td>\n",
       "      <td>Schützengraben 6</td>\n",
       "      <td>4051.0</td>\n",
       "      <td>NaN</td>\n",
       "      <td>NaN</td>\n",
       "    </tr>\n",
       "  </tbody>\n",
       "</table>\n",
       "</div>"
      ],
      "text/plain": [
       "                                LocationId            Street     ZIP  \\\n",
       "9304  030641ca-357e-45cc-adae-fe056bc9a13a  Schützengraben 6  4051.0   \n",
       "\n",
       "      longitude  latitude  \n",
       "9304        NaN       NaN  "
      ]
     },
     "execution_count": 25,
     "metadata": {},
     "output_type": "execute_result"
    }
   ],
   "source": [
    "\n",
    "# Get the current working directory\n",
    "current_directory = os.getcwd()\n",
    "# Go back one directory (up one level)\n",
    "parent_directory = os.path.dirname(current_directory)\n",
    "# Go into the \"TablesDB\" folder\n",
    "tables_directory = os.path.join(parent_directory, \"TablesDB\")\n",
    "# Change the current working directory to the \"TablesDB\" folder\n",
    "os.chdir(tables_directory)\n",
    "\n",
    "\n",
    "csv_file_path = 'Location_v2.csv'\n",
    "# Read the CSV file into a pandas DataFrame\n",
    "df = pd.read_csv(csv_file_path, delimiter=\",\")\n",
    "filtered = df[df['LocationId'] == '030641ca-357e-45cc-adae-fe056bc9a13a']\n",
    "filtered\n",
    "\n"
   ]
  }
 ],
 "metadata": {
  "kernelspec": {
   "display_name": "adsenv",
   "language": "python",
   "name": "python3"
  },
  "language_info": {
   "codemirror_mode": {
    "name": "ipython",
    "version": 3
   },
   "file_extension": ".py",
   "mimetype": "text/x-python",
   "name": "python",
   "nbconvert_exporter": "python",
   "pygments_lexer": "ipython3",
   "version": "3.11.5"
  }
 },
 "nbformat": 4,
 "nbformat_minor": 2
}
