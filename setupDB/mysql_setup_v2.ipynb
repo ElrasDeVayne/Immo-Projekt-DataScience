{
 "cells": [
  {
   "cell_type": "markdown",
   "metadata": {},
   "source": [
    "<h1>MYSQL Database Setup</h1>\n",
    "\n",
    "<p>This notebook establishes a connection to a local MYSQL server instance and creates the necessary tables for the project. In a second step the tables are populated with data from csv files.\n",
    "IMPORTANT: DO NOT RUN THE ENTIRE NOTEBOOK AT ONCE.<p> "
   ]
  },
  {
   "cell_type": "code",
   "execution_count": 3,
   "metadata": {},
   "outputs": [
    {
     "name": "stdout",
     "output_type": "stream",
     "text": [
      "Collecting mysql-connector\n",
      "  Downloading mysql-connector-2.2.9.tar.gz (11.9 MB)\n",
      "\u001b[2K     \u001b[90m━━━━━━━━━━━━━━━━━━━━━━━━━━━━━━━━━━━━━━━\u001b[0m \u001b[32m11.9/11.9 MB\u001b[0m \u001b[31m571.4 kB/s\u001b[0m eta \u001b[36m0:00:00\u001b[0m00:01\u001b[0m00:01\u001b[0m\n",
      "\u001b[?25h  Preparing metadata (setup.py) ... \u001b[?25ldone\n",
      "\u001b[?25hBuilding wheels for collected packages: mysql-connector\n",
      "  Building wheel for mysql-connector (setup.py) ... \u001b[?25ldone\n",
      "\u001b[?25h  Created wheel for mysql-connector: filename=mysql_connector-2.2.9-cp311-cp311-macosx_11_0_arm64.whl size=247956 sha256=af4900a32a237f2de692574f916a001a7d71ec30b21f657d18609dcdad3e6820\n",
      "  Stored in directory: /Users/jankuchli/Library/Caches/pip/wheels/17/cd/ed/2d49e9bac69cf09382e4c7cc20a2511202b48324b87db26019\n",
      "Successfully built mysql-connector\n",
      "Installing collected packages: mysql-connector\n",
      "Successfully installed mysql-connector-2.2.9\n",
      "Note: you may need to restart the kernel to use updated packages.\n"
     ]
    }
   ],
   "source": [
    "pip install mysql-connector-python"
   ]
  },
  {
   "cell_type": "markdown",
   "metadata": {},
   "source": [
    "<h3>Test DB Connection</h3>"
   ]
  },
  {
   "cell_type": "code",
   "execution_count": 12,
   "metadata": {},
   "outputs": [
    {
     "name": "stdout",
     "output_type": "stream",
     "text": [
      "Connected to MySQL server\n",
      "MySQL connection closed\n"
     ]
    }
   ],
   "source": [
    "import mysql.connector\n",
    "from mysql.connector import Error\n",
    "import pandas as pd\n",
    "\n",
    "# MySQL connection parameters\n",
    "host = '127.0.0.1'\n",
    "port = '13306'\n",
    "user = 'admin'\n",
    "password = 'admin123'\n",
    "database = 'immo'  \n",
    "try:\n",
    "    connection = mysql.connector.connect(host=host,\n",
    "                                         port=port,\n",
    "                                         user=user,\n",
    "                                         password=password,\n",
    "                                         database=database)\n",
    "\n",
    "    if connection.is_connected():\n",
    "        print(\"Connected to MySQL server\")\n",
    "        cursor = connection.cursor()\n",
    "        cursor.close()\n",
    "\n",
    "except Error as e:\n",
    "    print(\"Error connecting to MySQL:\", e)\n",
    "\n",
    "finally:\n",
    "    if connection.is_connected():\n",
    "        # Close cursor and connection\n",
    "        cursor.close()\n",
    "        connection.close()\n",
    "        print(\"MySQL connection closed\")"
   ]
  },
  {
   "cell_type": "markdown",
   "metadata": {},
   "source": [
    "<h3>Show all Tables in the DB</h3>"
   ]
  },
  {
   "cell_type": "code",
   "execution_count": 48,
   "metadata": {},
   "outputs": [
    {
     "name": "stdout",
     "output_type": "stream",
     "text": [
      "Tables in the database:\n",
      "bytearray(b'Location')\n",
      "bytearray(b'Property')\n",
      "bytearray(b'PropertyAdditionalFeatures')\n"
     ]
    }
   ],
   "source": [
    "import mysql.connector\n",
    "\n",
    "def get_tables(host, user, password, database):\n",
    "    try:\n",
    "        # Establish a connection to the MySQL database\n",
    "        connection = mysql.connector.connect(\n",
    "            host=host,\n",
    "            port=port,\n",
    "            user=user,\n",
    "            password=password,\n",
    "            database=database\n",
    "        )\n",
    "\n",
    "        # Create a cursor object to execute SQL queries\n",
    "        cursor = connection.cursor()\n",
    "\n",
    "        # Execute the SQL query to fetch table names\n",
    "        cursor.execute(\"SHOW TABLES\")\n",
    "\n",
    "        # Fetch all rows (table names) from the result set\n",
    "        tables = cursor.fetchall()\n",
    "\n",
    "        # Extract table names from the result set\n",
    "        table_names = [table[0] for table in tables]\n",
    "\n",
    "        return table_names\n",
    "\n",
    "    except mysql.connector.Error as error:\n",
    "        print(\"Error while connecting to MySQL:\", error)\n",
    "        return None\n",
    "\n",
    "# Provide your MySQL database connection details\n",
    "host = '127.0.0.1'\n",
    "port = '13306'\n",
    "user = 'admin'\n",
    "password = 'admin123'\n",
    "database = 'immo'\n",
    "\n",
    "# Call the function to get the list of tables\n",
    "tables = get_tables(host, user, password, database)\n",
    "\n",
    "if tables:\n",
    "    print(\"Tables in the database:\")\n",
    "    for table in tables:\n",
    "        print(table)\n",
    "else:\n",
    "    print(\"Failed to retrieve tables.\")\n",
    "\n",
    "cursor.close()\n",
    "connection.close()\n"
   ]
  },
  {
   "cell_type": "markdown",
   "metadata": {},
   "source": [
    "<h3>Template Code to DROP a Table</h3>"
   ]
  },
  {
   "cell_type": "code",
   "execution_count": 31,
   "metadata": {},
   "outputs": [
    {
     "name": "stdout",
     "output_type": "stream",
     "text": [
      "Connected to MySQL server\n",
      "Tables dropped successfully\n",
      "MySQL connection closed\n"
     ]
    }
   ],
   "source": [
    "import mysql.connector\n",
    "from mysql.connector import Error\n",
    "import pandas as pd\n",
    "\n",
    "# MySQL connection parameters\n",
    "host = '127.0.0.1'\n",
    "port = '13306'\n",
    "user = 'admin'\n",
    "password = 'admin123'\n",
    "database = 'immo'  \n",
    "try:\n",
    "    connection = mysql.connector.connect(host=host,\n",
    "                                         port=port,\n",
    "                                         user=user,\n",
    "                                         password=password,\n",
    "                                         database=database)\n",
    "    \n",
    "#change the name of the table you want to drop in the query below\n",
    "    if connection.is_connected():\n",
    "        print(\"Connected to MySQL server\")\n",
    "        cursor = connection.cursor()\n",
    "\n",
    "        query = \"\"\"\n",
    "        DROP TABLE IF EXISTS PropertyAdditionalFeatures;\n",
    "        \"\"\"\n",
    "\n",
    "\n",
    "        cursor.execute(query)\n",
    "        print(\"Tables dropped successfully\")\n",
    "\n",
    "except Error as e:\n",
    "    print(\"Error connecting to MySQL:\", e)\n",
    "\n",
    "finally:\n",
    "    if connection.is_connected():\n",
    "        # Close cursor and connection\n",
    "        cursor.close()\n",
    "        connection.close()\n",
    "        print(\"MySQL connection closed\")"
   ]
  },
  {
   "cell_type": "markdown",
   "metadata": {},
   "source": [
    "<h3>Create Location Table</h3>"
   ]
  },
  {
   "cell_type": "code",
   "execution_count": 33,
   "metadata": {},
   "outputs": [
    {
     "name": "stdout",
     "output_type": "stream",
     "text": [
      "Connected to MySQL server\n",
      "Tables created successfully\n",
      "MySQL connection closed\n"
     ]
    }
   ],
   "source": [
    "import mysql.connector\n",
    "from mysql.connector import Error\n",
    "import pandas as pd\n",
    "\n",
    "# MySQL connection parameters\n",
    "host = '127.0.0.1'\n",
    "port = '13306'\n",
    "user = 'admin'\n",
    "password = 'admin123'\n",
    "database = 'immo'  \n",
    "try:\n",
    "    connection = mysql.connector.connect(host=host,\n",
    "                                         port=port,\n",
    "                                         user=user,\n",
    "                                         password=password,\n",
    "                                         database=database)\n",
    "\n",
    "    if connection.is_connected():\n",
    "        print(\"Connected to MySQL server\")\n",
    "        cursor = connection.cursor()\n",
    "\n",
    "        query = \"\"\"\n",
    "        CREATE TABLE IF NOT EXISTS Location (\n",
    "            LocationId VARCHAR(50) PRIMARY KEY,\n",
    "            Street VARCHAR(150) NULL,\n",
    "            ZIP INT NULL,\n",
    "            longitude VARCHAR(50),\n",
    "            latitude VARCHAR(50)\n",
    "        );\n",
    "        \"\"\"\n",
    "\n",
    "\n",
    "        cursor.execute(query)\n",
    "        print(\"Tables created successfully\")\n",
    "\n",
    "except Error as e:\n",
    "    print(\"Error connecting to MySQL:\", e)\n",
    "\n",
    "finally:\n",
    "    if connection.is_connected():\n",
    "        # Close cursor and connection\n",
    "        cursor.close()\n",
    "        connection.close()\n",
    "        print(\"MySQL connection closed\")"
   ]
  },
  {
   "cell_type": "markdown",
   "metadata": {},
   "source": [
    "<h3>Create Property Table</h3>"
   ]
  },
  {
   "cell_type": "code",
   "execution_count": 34,
   "metadata": {},
   "outputs": [
    {
     "name": "stdout",
     "output_type": "stream",
     "text": [
      "Connected to MySQL server\n",
      "Tables created successfully\n",
      "MySQL connection closed\n"
     ]
    }
   ],
   "source": [
    "import mysql.connector\n",
    "from mysql.connector import Error\n",
    "import pandas as pd\n",
    "\n",
    "# MySQL connection parameters\n",
    "host = '127.0.0.1'\n",
    "port = '13306'\n",
    "user = 'admin'\n",
    "password = 'admin123'\n",
    "database = 'immo'  \n",
    "try:\n",
    "    connection = mysql.connector.connect(host=host,\n",
    "                                         port=port,\n",
    "                                         user=user,\n",
    "                                         password=password,\n",
    "                                         database=database)\n",
    "\n",
    "    if connection.is_connected():\n",
    "        print(\"Connected to MySQL server\")\n",
    "        cursor = connection.cursor()\n",
    "\n",
    "        query = \"\"\"\n",
    "        CREATE TABLE IF NOT EXISTS Property (\n",
    "            ListingId VARCHAR(50) NULL,\n",
    "            Timestamp DATETIME NULL,\n",
    "            Rooms DECIMAL(5, 1) NULL,\n",
    "            SquareMeter INT NULL,\n",
    "            Floor VARCHAR(50) NULL,\n",
    "            Availability VARCHAR(100) NULL,\n",
    "            ObjectType VARCHAR(50) NULL,\n",
    "            YearBuilt DATE NULL,\n",
    "            Price DECIMAL(18, 2) NULL,\n",
    "            AdditionalCost DECIMAL(18, 2) NULL,\n",
    "            NetPrice DECIMAL(18, 2) NULL,\n",
    "            LocationId VARCHAR(50) NULL,\n",
    "            PropertyAdditionalFeaturesId VARCHAR(50) NULL,\n",
    "            PropertyDescription VARCHAR(4000) NULL,\n",
    "            Vendor VARCHAR(50) NULL,\n",
    "            Canton VARCHAR(50) NULL\n",
    "        );\n",
    "        \"\"\"\n",
    "\n",
    "\n",
    "        cursor.execute(query)\n",
    "        print(\"Tables created successfully\")\n",
    "\n",
    "except Error as e:\n",
    "    print(\"Error connecting to MySQL:\", e)\n",
    "\n",
    "finally:\n",
    "    if connection.is_connected():\n",
    "        # Close cursor and connection\n",
    "        cursor.close()\n",
    "        connection.close()\n",
    "        print(\"MySQL connection closed\")"
   ]
  },
  {
   "cell_type": "markdown",
   "metadata": {},
   "source": [
    "<h3>Create PropertyAdditionalFeatures Table</h3>"
   ]
  },
  {
   "cell_type": "code",
   "execution_count": 35,
   "metadata": {},
   "outputs": [
    {
     "name": "stdout",
     "output_type": "stream",
     "text": [
      "Connected to MySQL server\n",
      "Tables created successfully\n",
      "MySQL connection closed\n"
     ]
    }
   ],
   "source": [
    "import mysql.connector\n",
    "from mysql.connector import Error\n",
    "import pandas as pd\n",
    "\n",
    "# MySQL connection parameters\n",
    "host = '127.0.0.1'\n",
    "port = '13306'\n",
    "user = 'admin'\n",
    "password = 'admin123'\n",
    "database = 'immo'  \n",
    "try:\n",
    "    connection = mysql.connector.connect(host=host,\n",
    "                                         port=port,\n",
    "                                         user=user,\n",
    "                                         password=password,\n",
    "                                         database=database)\n",
    "\n",
    "    if connection.is_connected():\n",
    "        print(\"Connected to MySQL server\")\n",
    "        cursor = connection.cursor()\n",
    "\n",
    "        query = \"\"\"\n",
    "        CREATE TABLE IF NOT EXISTS PropertyAdditionalFeatures (\n",
    "            ListingId VARCHAR(50) NULL,\n",
    "            Feature VARCHAR(250) NULL\n",
    "        );\n",
    "        \"\"\"\n",
    "\n",
    "\n",
    "        cursor.execute(query)\n",
    "        print(\"Tables created successfully\")\n",
    "\n",
    "except Error as e:\n",
    "    print(\"Error connecting to MySQL:\", e)\n",
    "\n",
    "finally:\n",
    "    if connection.is_connected():\n",
    "        # Close cursor and connection\n",
    "        cursor.close()\n",
    "        connection.close()\n",
    "        print(\"MySQL connection closed\")"
   ]
  },
  {
   "cell_type": "markdown",
   "metadata": {},
   "source": [
    "<h3>Populate Location Table with Data from csv</h3>"
   ]
  },
  {
   "cell_type": "code",
   "execution_count": 21,
   "metadata": {},
   "outputs": [
    {
     "name": "stdout",
     "output_type": "stream",
     "text": [
      "(11352, 5)\n",
      "(11295, 5)\n"
     ]
    }
   ],
   "source": [
    "import pandas as pd\n",
    "import mysql.connector\n",
    "import os\n",
    "import numpy as np\n",
    "\n",
    "# Connect to MySQL server\n",
    "conn = mysql.connector.connect(\n",
    "    host = '127.0.0.1',\n",
    "    port = '13306',\n",
    "    user = 'admin',\n",
    "    password = 'admin123',\n",
    "    database = 'immo'\n",
    ")\n",
    "\n",
    "# Go to correct directory:\n",
    "# Get the current working directory\n",
    "current_directory = os.getcwd()\n",
    "# Go back one directory (up one level)\n",
    "parent_directory = os.path.dirname(current_directory)\n",
    "# Go into the \"TablesDB\" folder\n",
    "tables_directory = os.path.join(parent_directory, \"TablesDB\")\n",
    "# Change the current working directory to the \"TablesDB\" folder\n",
    "os.chdir(tables_directory)\n",
    "\n",
    "# Create a cursor object\n",
    "cursor = conn.cursor()\n",
    "\n",
    "# Delete all data from the Property table\n",
    "delete_query = \"TRUNCATE TABLE Location\"\n",
    "cursor.execute(delete_query)\n",
    "conn.commit()\n",
    "\n",
    "csv_file_path = 'Location_v2.csv'\n",
    "\n",
    "# Read the CSV file into a pandas DataFrame\n",
    "df = pd.read_csv(csv_file_path, delimiter=\",\")\n",
    "df = pd.DataFrame(df)\n",
    "print(df.shape)\n",
    "df = df[df['ZIP']>0]\n",
    "print(df.shape)\n",
    "df['ZIP'] = df['ZIP'].astype(\"int64\")\n",
    "df['longitude'] = df['longitude'].astype(\"string\")\n",
    "df['latitude'] = df['latitude'].astype(\"string\")\n",
    "df = df.replace({np.nan:None})\n",
    "\n",
    "# Define the SQL statement for inserting data into the Location table\n",
    "insert_query = \"\"\"\n",
    "INSERT INTO Location (LocationId, Street, ZIP, longitude, latitude)\n",
    "VALUES (%s, %s, %s, %s, %s)\n",
    "\"\"\"\n",
    "\n",
    "# Iterate over each row of the DataFrame and insert data into the Location table\n",
    "for index, row in df.iterrows():\n",
    "    # Extract data from the DataFrame row\n",
    "    location_id = row['LocationId']\n",
    "    street = row['Street']\n",
    "    zip_code = row['ZIP']\n",
    "    longitude = row['longitude']\n",
    "    latitude = row['latitude']\n",
    "\n",
    "    # Execute the SQL query to insert data into the Location table\n",
    "    cursor.execute(insert_query, (location_id, street, zip_code, longitude, latitude))\n",
    "\n",
    "# Commit changes and close the connection\n",
    "conn.commit()\n",
    "conn.close()\n"
   ]
  },
  {
   "cell_type": "markdown",
   "metadata": {},
   "source": [
    "<h3>Populate Property Table with Data from csv</h3>"
   ]
  },
  {
   "cell_type": "code",
   "execution_count": 47,
   "metadata": {},
   "outputs": [
    {
     "name": "stdout",
     "output_type": "stream",
     "text": [
      "(11352, 16)\n",
      "1366 (HY000): Incorrect string value: '\\xF0\\x9F\\x8F\\xA0\\xE2\\x9C...' for column 'PropertyDescription' at row 1 4000920635\n",
      "1366 (HY000): Incorrect string value: '\\xF4\\x80\\x86\\x9Fg ...' for column 'PropertyDescription' at row 1 4000669524\n"
     ]
    }
   ],
   "source": [
    "\n",
    "import pandas as pd\n",
    "import mysql.connector\n",
    "import os\n",
    "import numpy as np\n",
    "\n",
    "# Connect to MySQL server\n",
    "conn = mysql.connector.connect(\n",
    "    host = '127.0.0.1',\n",
    "    port = '13306',\n",
    "    user = 'admin',\n",
    "    password = 'admin123',\n",
    "    database = 'immo'\n",
    ")\n",
    "\n",
    "# Go to correct directory:\n",
    "# Get the current working directory\n",
    "current_directory = os.getcwd()\n",
    "# Go back one directory (up one level)\n",
    "parent_directory = os.path.dirname(current_directory)\n",
    "# Go into the \"TablesDB\" folder\n",
    "tables_directory = os.path.join(parent_directory, \"TablesDB\")\n",
    "# Change the current working directory to the \"TablesDB\" folder\n",
    "os.chdir(tables_directory)\n",
    "\n",
    "# Create a cursor object\n",
    "cursor = conn.cursor()\n",
    "\n",
    "# Delete all data from the Property table\n",
    "delete_query = \"TRUNCATE TABLE Property\"\n",
    "cursor.execute(delete_query)\n",
    "conn.commit()\n",
    "\n",
    "csv_file_path = 'Property.csv'\n",
    "\n",
    "# Read the CSV file into a pandas DataFrame\n",
    "df = pd.read_csv(csv_file_path, delimiter=\";\")\n",
    "df = pd.DataFrame(df)\n",
    "print(df.shape)\n",
    "\n",
    "df = df.replace({np.nan:None})\n",
    "\n",
    "\n",
    "for row in df.itertuples():\n",
    "    try:\n",
    "        query = '''INSERT INTO Property (ListingId,Timestamp,Rooms,SquareMeter,Floor,Availability,ObjectType,YearBuilt,Price,AdditionalCost,NetPrice,LocationId,PropertyAdditionalFeaturesId,PropertyDescription,Vendor,Canton)\n",
    "                    VALUES (%s,%s,%s,%s,%s,%s,%s,%s,%s,%s,%s,%s,%s,%s,%s,%s)'''\n",
    "        \n",
    "        values=(row.ListingId,\n",
    "                row.Timestamp,\n",
    "                row.Rooms,\n",
    "                row.SquareMeter,\n",
    "                row.Floor,\n",
    "                row.Availability,\n",
    "                row.ObjectType,\n",
    "                row.YearBuilt,\n",
    "                row.Price,\n",
    "                row.AdditionalCost,\n",
    "                row.NetPrice,\n",
    "                row.LocationId,\n",
    "                row.PropertyAdditionalFeaturesId,\n",
    "                row.PropertyDescription,\n",
    "                row.Vendor,\n",
    "                row.Canton)\n",
    "        \n",
    "        cursor.execute(query, values)\n",
    "\n",
    "        conn.commit()\n",
    "\n",
    "    except Exception as e:\n",
    "        print(e, row.ListingId)\n",
    "\n",
    "# Commit changes and close the connection\n",
    "conn.close()"
   ]
  },
  {
   "cell_type": "markdown",
   "metadata": {},
   "source": [
    "<h3>Populate PropertyAdditionalFeatures Table with Data from csv</h3>"
   ]
  },
  {
   "cell_type": "code",
   "execution_count": 46,
   "metadata": {},
   "outputs": [
    {
     "name": "stdout",
     "output_type": "stream",
     "text": [
      "(40850, 2)\n"
     ]
    }
   ],
   "source": [
    "import pandas as pd\n",
    "import mysql.connector\n",
    "import os\n",
    "import numpy as np\n",
    "\n",
    "# Connect to MySQL server\n",
    "conn = mysql.connector.connect(\n",
    "    host = '127.0.0.1',\n",
    "    port = '13306',\n",
    "    user = 'admin',\n",
    "    password = 'admin123',\n",
    "    database = 'immo'\n",
    ")\n",
    "\n",
    "# Go to correct directory:\n",
    "# Get the current working directory\n",
    "current_directory = os.getcwd()\n",
    "# Go back one directory (up one level)\n",
    "parent_directory = os.path.dirname(current_directory)\n",
    "# Go into the \"TablesDB\" folder\n",
    "tables_directory = os.path.join(parent_directory, \"TablesDB\")\n",
    "# Change the current working directory to the \"TablesDB\" folder\n",
    "os.chdir(tables_directory)\n",
    "\n",
    "# Create a cursor object\n",
    "cursor = conn.cursor()\n",
    "\n",
    "# Delete all data from the Property table\n",
    "delete_query = \"TRUNCATE TABLE PropertyAdditionalFeatures\"\n",
    "cursor.execute(delete_query)\n",
    "conn.commit()\n",
    "\n",
    "csv_file_path = 'PropertyAdditionalFeatures.csv'\n",
    "\n",
    "# Read the CSV file into a pandas DataFrame\n",
    "df = pd.read_csv(csv_file_path, delimiter=\";\")\n",
    "df = pd.DataFrame(df)\n",
    "print(df.shape)\n",
    "\n",
    "df = df.replace({np.nan:None})\n",
    "\n",
    "\n",
    "# Insert DataFrame to Table\n",
    "#, [Street], [ZIP]\n",
    "for row in df.itertuples():\n",
    "    try:\n",
    "        query = '''INSERT INTO PropertyAdditionalFeatures (ListingId,Feature)\n",
    "                    VALUES (%s,%s)'''\n",
    "        values = (row.ListingId, row.Feature)\n",
    "        cursor.execute(query, values)\n",
    "        conn.commit()\n",
    "    except Exception as e:\n",
    "        print(e, row.ListingId)\n",
    "cursor.close()\n",
    "conn.close()"
   ]
  },
  {
   "cell_type": "code",
   "execution_count": 44,
   "metadata": {},
   "outputs": [],
   "source": [
    "cursor.close()\n",
    "conn.close()"
   ]
  },
  {
   "cell_type": "markdown",
   "metadata": {},
   "source": [
    "<h3>Miscellanous Test code below</h3>"
   ]
  },
  {
   "cell_type": "code",
   "execution_count": 42,
   "metadata": {},
   "outputs": [],
   "source": [
    "#code to truncate tables -- always change the table you want to truncate manually\n",
    "import pandas as pd\n",
    "import mysql.connector\n",
    "import os\n",
    "import numpy as np\n",
    "\n",
    "# Connect to MySQL server\n",
    "conn = mysql.connector.connect(\n",
    "    host = '127.0.0.1',\n",
    "    port = '13306',\n",
    "    user = 'admin',\n",
    "    password = 'admin123',\n",
    "    database = 'immo'\n",
    ")\n",
    "\n",
    "\n",
    "\n",
    "# Create a cursor object\n",
    "cursor = conn.cursor()\n",
    "\n",
    "# Delete all data from the Property table\n",
    "delete_query = \"TRUNCATE TABLE Property\"\n",
    "cursor.execute(delete_query)\n",
    "conn.commit()"
   ]
  },
  {
   "cell_type": "code",
   "execution_count": 17,
   "metadata": {},
   "outputs": [
    {
     "name": "stdout",
     "output_type": "stream",
     "text": [
      "/Users/jankuchli/Documents/ZHAW/2024-FS/applied_data_science/ADS_Projekt/Immo-Projekt-DataScience/setupDB\n",
      "/Users/jankuchli/Documents/ZHAW/2024-FS/applied_data_science/ADS_Projekt/Immo-Projekt-DataScience/TablesDB\n"
     ]
    }
   ],
   "source": [
    "import os\n",
    "\n",
    "print(os.getcwd())\n",
    "\n",
    "# Get the current working directory\n",
    "current_directory = os.getcwd()\n",
    "\n",
    "# Go back one directory (up one level)\n",
    "parent_directory = os.path.dirname(current_directory)\n",
    "\n",
    "# Go into the \"TablesDB\" folder\n",
    "tables_directory = os.path.join(parent_directory, \"TablesDB\")\n",
    "\n",
    "# Change the current working directory to the \"TablesDB\" folder\n",
    "os.chdir(tables_directory)\n",
    "\n",
    "print(os.getcwd())\n"
   ]
  },
  {
   "cell_type": "code",
   "execution_count": 3,
   "metadata": {},
   "outputs": [
    {
     "data": {
      "text/html": [
       "<div>\n",
       "<style scoped>\n",
       "    .dataframe tbody tr th:only-of-type {\n",
       "        vertical-align: middle;\n",
       "    }\n",
       "\n",
       "    .dataframe tbody tr th {\n",
       "        vertical-align: top;\n",
       "    }\n",
       "\n",
       "    .dataframe thead th {\n",
       "        text-align: right;\n",
       "    }\n",
       "</style>\n",
       "<table border=\"1\" class=\"dataframe\">\n",
       "  <thead>\n",
       "    <tr style=\"text-align: right;\">\n",
       "      <th></th>\n",
       "      <th>LocationId</th>\n",
       "      <th>Street</th>\n",
       "      <th>ZIP</th>\n",
       "      <th>longitude</th>\n",
       "      <th>latitude</th>\n",
       "    </tr>\n",
       "  </thead>\n",
       "  <tbody>\n",
       "    <tr>\n",
       "      <th>9304</th>\n",
       "      <td>030641ca-357e-45cc-adae-fe056bc9a13a</td>\n",
       "      <td>Schützengraben 6</td>\n",
       "      <td>4051.0</td>\n",
       "      <td>NaN</td>\n",
       "      <td>NaN</td>\n",
       "    </tr>\n",
       "  </tbody>\n",
       "</table>\n",
       "</div>"
      ],
      "text/plain": [
       "                                LocationId            Street     ZIP  \\\n",
       "9304  030641ca-357e-45cc-adae-fe056bc9a13a  Schützengraben 6  4051.0   \n",
       "\n",
       "      longitude  latitude  \n",
       "9304        NaN       NaN  "
      ]
     },
     "execution_count": 3,
     "metadata": {},
     "output_type": "execute_result"
    }
   ],
   "source": [
    "\n",
    "import os\n",
    "import pandas as pd\n",
    "\n",
    "# Get the current working directory\n",
    "current_directory = os.getcwd()\n",
    "# Go back one directory (up one level)\n",
    "parent_directory = os.path.dirname(current_directory)\n",
    "# Go into the \"TablesDB\" folder\n",
    "tables_directory = os.path.join(parent_directory, \"TablesDB\")\n",
    "# Change the current working directory to the \"TablesDB\" folder\n",
    "os.chdir(tables_directory)\n",
    "\n",
    "\n",
    "csv_file_path = 'Location_v2.csv'\n",
    "# Read the CSV file into a pandas DataFrame\n",
    "df = pd.read_csv(csv_file_path, delimiter=\",\")\n",
    "filtered = df[df['LocationId'] == '030641ca-357e-45cc-adae-fe056bc9a13a']\n",
    "filtered\n",
    "\n"
   ]
  }
 ],
 "metadata": {
  "kernelspec": {
   "display_name": "adsenv",
   "language": "python",
   "name": "python3"
  },
  "language_info": {
   "codemirror_mode": {
    "name": "ipython",
    "version": 3
   },
   "file_extension": ".py",
   "mimetype": "text/x-python",
   "name": "python",
   "nbconvert_exporter": "python",
   "pygments_lexer": "ipython3",
   "version": "3.11.7"
  }
 },
 "nbformat": 4,
 "nbformat_minor": 2
}
