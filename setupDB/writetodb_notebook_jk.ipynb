{
 "cells": [
  {
   "cell_type": "code",
   "execution_count": 5,
   "metadata": {},
   "outputs": [
    {
     "name": "stdout",
     "output_type": "stream",
     "text": [
      "Requirement already satisfied: pyodbc in /Users/jankuchli/anaconda3/envs/adsenv/lib/python3.11/site-packages (5.1.0)\n",
      "Note: you may need to restart the kernel to use updated packages.\n"
     ]
    }
   ],
   "source": [
    "pip install pyodbc"
   ]
  },
  {
   "cell_type": "code",
   "execution_count": 1,
   "metadata": {},
   "outputs": [],
   "source": [
    "import csv\n",
    "import pyodbc\n",
    "import numpy as np\n",
    "import pandas as pd\n"
   ]
  },
  {
   "cell_type": "code",
   "execution_count": 2,
   "metadata": {},
   "outputs": [
    {
     "name": "stdout",
     "output_type": "stream",
     "text": [
      "(11352, 5)\n",
      "(11295, 5)\n"
     ]
    }
   ],
   "source": [
    "data = pd.read_csv ('../TablesDB/Location_v2.csv', delimiter=\",\")\n",
    "df = pd.DataFrame(data)\n",
    "print(df.shape)\n",
    "df = df[df['ZIP']>0]\n",
    "print(df.shape)\n",
    "df['ZIP'] = df['ZIP'].astype(\"int64\")\n",
    "df['longitude'] = df['longitude'].astype(\"string\")\n",
    "df['latitude'] = df['latitude'].astype(\"string\")\n"
   ]
  },
  {
   "cell_type": "code",
   "execution_count": 4,
   "metadata": {},
   "outputs": [
    {
     "ename": "OperationalError",
     "evalue": "('08001', '[08001] [Microsoft][ODBC Driver 18 for SQL Server]SSL Provider: [error:80000002:system library::No such file or directory:calling stat(/opt/homebrew/etc/openssl@3/certs)][error:80000002:system library::No such file or directory:calling stat(/opt/homebrew/etc/openssl@3/certs)] (-1) (SQLDriverConnect)')",
     "output_type": "error",
     "traceback": [
      "\u001b[0;31m---------------------------------------------------------------------------\u001b[0m",
      "\u001b[0;31mOperationalError\u001b[0m                          Traceback (most recent call last)",
      "Cell \u001b[0;32mIn[4], line 10\u001b[0m\n\u001b[1;32m      8\u001b[0m \u001b[38;5;66;03m#conn_str = 'DRIVER={SQL Server};SERVER=localhost;DATABASE=Immo;Trusted_Connection=yes;'\u001b[39;00m\n\u001b[1;32m      9\u001b[0m conn_str \u001b[38;5;241m=\u001b[39m \u001b[38;5;124mf\u001b[39m\u001b[38;5;124m'\u001b[39m\u001b[38;5;124mDRIVER=\u001b[39m\u001b[38;5;130;01m{{\u001b[39;00m\u001b[38;5;124mODBC Driver 18 for SQL Server\u001b[39m\u001b[38;5;130;01m}}\u001b[39;00m\u001b[38;5;124m;SERVER=\u001b[39m\u001b[38;5;132;01m{\u001b[39;00mSERVER\u001b[38;5;132;01m}\u001b[39;00m\u001b[38;5;124m;DATABASE=\u001b[39m\u001b[38;5;132;01m{\u001b[39;00mDATABASE\u001b[38;5;132;01m}\u001b[39;00m\u001b[38;5;124m;UID=\u001b[39m\u001b[38;5;132;01m{\u001b[39;00mUSERNAME\u001b[38;5;132;01m}\u001b[39;00m\u001b[38;5;124m;PWD=\u001b[39m\u001b[38;5;132;01m{\u001b[39;00mPASSWORD\u001b[38;5;132;01m}\u001b[39;00m\u001b[38;5;124m'\u001b[39m\n\u001b[0;32m---> 10\u001b[0m conn \u001b[38;5;241m=\u001b[39m \u001b[43mpyodbc\u001b[49m\u001b[38;5;241;43m.\u001b[39;49m\u001b[43mconnect\u001b[49m\u001b[43m(\u001b[49m\u001b[43mconn_str\u001b[49m\u001b[43m)\u001b[49m\n\u001b[1;32m     11\u001b[0m \u001b[38;5;66;03m#cursor = conn.cursor()\u001b[39;00m\n\u001b[1;32m     12\u001b[0m \u001b[38;5;66;03m#df = df.replace({np.nan:None})\u001b[39;00m\n",
      "\u001b[0;31mOperationalError\u001b[0m: ('08001', '[08001] [Microsoft][ODBC Driver 18 for SQL Server]SSL Provider: [error:80000002:system library::No such file or directory:calling stat(/opt/homebrew/etc/openssl@3/certs)][error:80000002:system library::No such file or directory:calling stat(/opt/homebrew/etc/openssl@3/certs)] (-1) (SQLDriverConnect)')"
     ]
    }
   ],
   "source": [
    "# Connect to SQL Server\n",
    "SERVER = 'localhost'\n",
    "DATABASE = 'Immo'\n",
    "USERNAME = 'sa'\n",
    "PASSWORD = '{SQLserverpassword123}'\n",
    "\n",
    "\n",
    "#conn_str = 'DRIVER={SQL Server};SERVER=localhost;DATABASE=Immo;Trusted_Connection=yes;'\n",
    "conn_str = f'DRIVER={{ODBC Driver 18 for SQL Server}};SERVER={SERVER};DATABASE={DATABASE};UID={USERNAME};PWD={PASSWORD}'\n",
    "conn = pyodbc.connect(conn_str)\n",
    "#cursor = conn.cursor()\n",
    "#df = df.replace({np.nan:None})"
   ]
  }
 ],
 "metadata": {
  "kernelspec": {
   "display_name": "adsenv",
   "language": "python",
   "name": "python3"
  },
  "language_info": {
   "codemirror_mode": {
    "name": "ipython",
    "version": 3
   },
   "file_extension": ".py",
   "mimetype": "text/x-python",
   "name": "python",
   "nbconvert_exporter": "python",
   "pygments_lexer": "ipython3",
   "version": "3.11.7"
  }
 },
 "nbformat": 4,
 "nbformat_minor": 2
}
