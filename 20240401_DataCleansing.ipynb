{
 "cells": [
  {
   "cell_type": "code",
   "execution_count": 212,
   "id": "dd28da51",
   "metadata": {},
   "outputs": [
    {
     "name": "stdout",
     "output_type": "stream",
     "text": [
      "C:\\Users\\AnninaBerweger\\datascience-immo\\Immo-Projekt-DataScience\n"
     ]
    }
   ],
   "source": [
    "# Load the libraries\n",
    "import pandas as pd\n",
    "import numpy as np\n",
    "import matplotlib.pyplot as plt\n",
    "import pyodbc\n",
    "import os\n",
    "import seaborn as sns\n",
    "import statsmodels.api as sm\n",
    "import pylab as py\n",
    "\n",
    "# seaborn graphics settings\n",
    "sns.set(color_codes=True)\n",
    "\n",
    "# Ignore warnings\n",
    "import warnings\n",
    "warnings.filterwarnings(\"ignore\")\n",
    "\n",
    "# Show current working directory\n",
    "print(os.getcwd())"
   ]
  },
  {
   "cell_type": "code",
   "execution_count": 213,
   "id": "724567c9",
   "metadata": {},
   "outputs": [],
   "source": [
    "#DB-Connection\n",
    "driver = '{ODBC Driver 17 for SQL Server}' # This might be a different version on your system\n",
    "server = 'ANNINAYOGA\\SQLEXPRESS'\n",
    "database = 'Immo'\n",
    "username = 'immoadmin'\n",
    "password = 'zhaw$1234'\n",
    "connection_string = f\"DRIVER={driver};SERVER={server};DATABASE={database};Trusted_Connection=yes;\""
   ]
  },
  {
   "cell_type": "code",
   "execution_count": 214,
   "id": "45ce0db0",
   "metadata": {},
   "outputs": [],
   "source": [
    "#Connection and SQL-Query for table property\n",
    "cnxn = pyodbc.connect(connection_string)\n",
    "sql = \"SELECT * FROM property\"\n",
    "df_property = pd.read_sql(sql,cnxn)  # without parameters [non-prepared statement]\n",
    "cnxn.close()\n",
    "\n",
    "#Connection and SQL-Query for table location\n",
    "cnxn = pyodbc.connect(connection_string)\n",
    "sql = \"SELECT * FROM location\"\n",
    "df_location = pd.read_sql(sql,cnxn)  # without parameters [non-prepared statement]\n",
    "cnxn.close()\n",
    "\n",
    "# Performing a inner join on the two DataFrames to filter data which do not exist on location due to connection issues\n",
    "df_filtered_property_location = pd.merge(df_property, df_location,on='LocationId', how='inner')\n"
   ]
  },
  {
   "cell_type": "code",
   "execution_count": 215,
   "id": "36f31975",
   "metadata": {},
   "outputs": [
    {
     "name": "stdout",
     "output_type": "stream",
     "text": [
      "(11295, 20)\n",
      "(11295, 5)\n",
      "(11295, 20)\n"
     ]
    }
   ],
   "source": [
    "#Print dimensions of the three dataframes \n",
    "print(df_filtered_property_location.shape)\n",
    "print(df_location.shape)\n",
    "print(df_merged.shape)"
   ]
  },
  {
   "cell_type": "markdown",
   "id": "96fe31d2",
   "metadata": {},
   "source": [
    "# Data Cleansing for Location-Property"
   ]
  },
  {
   "cell_type": "code",
   "execution_count": 216,
   "id": "13967700",
   "metadata": {},
   "outputs": [
    {
     "data": {
      "text/html": [
       "<div>\n",
       "<style scoped>\n",
       "    .dataframe tbody tr th:only-of-type {\n",
       "        vertical-align: middle;\n",
       "    }\n",
       "\n",
       "    .dataframe tbody tr th {\n",
       "        vertical-align: top;\n",
       "    }\n",
       "\n",
       "    .dataframe thead th {\n",
       "        text-align: right;\n",
       "    }\n",
       "</style>\n",
       "<table border=\"1\" class=\"dataframe\">\n",
       "  <thead>\n",
       "    <tr style=\"text-align: right;\">\n",
       "      <th></th>\n",
       "      <th>ListingId</th>\n",
       "      <th>Timestamp</th>\n",
       "      <th>Rooms</th>\n",
       "      <th>SquareMeter</th>\n",
       "      <th>Floor</th>\n",
       "      <th>Availability</th>\n",
       "      <th>ObjectType</th>\n",
       "      <th>YearBuilt</th>\n",
       "      <th>Price</th>\n",
       "      <th>AdditionalCost</th>\n",
       "      <th>NetPrice</th>\n",
       "      <th>LocationId</th>\n",
       "      <th>PropertyAdditionalFeaturesId</th>\n",
       "      <th>PropertyDescription</th>\n",
       "      <th>Vendor</th>\n",
       "      <th>Canton</th>\n",
       "      <th>Street</th>\n",
       "      <th>ZIP</th>\n",
       "      <th>longitude</th>\n",
       "      <th>latitude</th>\n",
       "    </tr>\n",
       "  </thead>\n",
       "  <tbody>\n",
       "    <tr>\n",
       "      <th>0</th>\n",
       "      <td>4000339592</td>\n",
       "      <td>2024-03-26 20:51:38</td>\n",
       "      <td>2.5</td>\n",
       "      <td>93.0</td>\n",
       "      <td>1</td>\n",
       "      <td>Sofort</td>\n",
       "      <td>Wohnung</td>\n",
       "      <td>2020-01-01</td>\n",
       "      <td>1920.0</td>\n",
       "      <td>NaN</td>\n",
       "      <td>1920.0</td>\n",
       "      <td>8410960a-1d36-40e9-940c-045cb7ea0657</td>\n",
       "      <td>65f95f08-2ad6-46aa-88a8-3d60b251686d</td>\n",
       "      <td>La Residenza Delta si trova a Capolago, situat...</td>\n",
       "      <td>Interfida SA</td>\n",
       "      <td>ti</td>\n",
       "      <td>Via Carlo Maderno 62</td>\n",
       "      <td>6825</td>\n",
       "      <td>None</td>\n",
       "      <td>None</td>\n",
       "    </tr>\n",
       "    <tr>\n",
       "      <th>1</th>\n",
       "      <td>4000280848</td>\n",
       "      <td>2024-03-26 20:51:50</td>\n",
       "      <td>2.5</td>\n",
       "      <td>62.0</td>\n",
       "      <td>2</td>\n",
       "      <td>Sofort</td>\n",
       "      <td>Wohnung</td>\n",
       "      <td>2017-01-01</td>\n",
       "      <td>1730.0</td>\n",
       "      <td>280.0</td>\n",
       "      <td>1450.0</td>\n",
       "      <td>fe87a1a0-0607-4532-91f9-9b52325d901c</td>\n",
       "      <td>47fb2685-0d55-4201-b7b2-65c7c4797f7a</td>\n",
       "      <td>La Residenza Martina, progettata dall’Architet...</td>\n",
       "      <td>Tarchini Group</td>\n",
       "      <td>ti</td>\n",
       "      <td>Via Indipendenza 10b</td>\n",
       "      <td>6826</td>\n",
       "      <td>None</td>\n",
       "      <td>None</td>\n",
       "    </tr>\n",
       "    <tr>\n",
       "      <th>2</th>\n",
       "      <td>4000653378</td>\n",
       "      <td>2024-03-26 21:52:37</td>\n",
       "      <td>2.0</td>\n",
       "      <td>58.0</td>\n",
       "      <td>3</td>\n",
       "      <td>Nach Vereinbarung</td>\n",
       "      <td>Wohnung</td>\n",
       "      <td>None</td>\n",
       "      <td>910.0</td>\n",
       "      <td>160.0</td>\n",
       "      <td>750.0</td>\n",
       "      <td>c1e83bdc-405d-41b3-9836-92ecd15a3138</td>\n",
       "      <td>8cff0e4e-2acb-4d04-906b-d76a6ca54d17</td>\n",
       "      <td>Affittasi 2 locali grazioso e luminoso in un q...</td>\n",
       "      <td>Livit AG</td>\n",
       "      <td>ti</td>\n",
       "      <td>Via Cereghetti 8</td>\n",
       "      <td>6834</td>\n",
       "      <td>None</td>\n",
       "      <td>None</td>\n",
       "    </tr>\n",
       "    <tr>\n",
       "      <th>3</th>\n",
       "      <td>4000381531</td>\n",
       "      <td>2024-03-26 22:44:33</td>\n",
       "      <td>1.5</td>\n",
       "      <td>40.0</td>\n",
       "      <td>None</td>\n",
       "      <td>Sofort</td>\n",
       "      <td>Wohnung</td>\n",
       "      <td>None</td>\n",
       "      <td>1350.0</td>\n",
       "      <td>100.0</td>\n",
       "      <td>1250.0</td>\n",
       "      <td>eaf7aae5-0fd2-4063-ab10-1ef432b1fe71</td>\n",
       "      <td>b8b96c50-b41f-489a-a908-0ef31a44f60d</td>\n",
       "      <td>Siamo a Pazzallo, a circa 10 minuti dal centro...</td>\n",
       "      <td>Rusca Studio Immobiliare</td>\n",
       "      <td>ti</td>\n",
       "      <td>None</td>\n",
       "      <td>6912</td>\n",
       "      <td>None</td>\n",
       "      <td>None</td>\n",
       "    </tr>\n",
       "    <tr>\n",
       "      <th>4</th>\n",
       "      <td>4000263143</td>\n",
       "      <td>2024-03-26 20:52:41</td>\n",
       "      <td>2.5</td>\n",
       "      <td>50.0</td>\n",
       "      <td>99</td>\n",
       "      <td>Nach Vereinbarung</td>\n",
       "      <td>Wohnung</td>\n",
       "      <td>None</td>\n",
       "      <td>1300.0</td>\n",
       "      <td>NaN</td>\n",
       "      <td>1300.0</td>\n",
       "      <td>c9939627-0caf-4c2e-b11a-aee3bc6afad5</td>\n",
       "      <td>9b110e2e-24c6-4920-a41b-c46378f2e346</td>\n",
       "      <td>A Bissone affittiamo appartamento arredato di ...</td>\n",
       "      <td>Zenit Real Estate Sagl</td>\n",
       "      <td>ti</td>\n",
       "      <td>Via Campione 65</td>\n",
       "      <td>6816</td>\n",
       "      <td>None</td>\n",
       "      <td>None</td>\n",
       "    </tr>\n",
       "  </tbody>\n",
       "</table>\n",
       "</div>"
      ],
      "text/plain": [
       "    ListingId           Timestamp  Rooms  SquareMeter Floor  \\\n",
       "0  4000339592 2024-03-26 20:51:38    2.5         93.0     1   \n",
       "1  4000280848 2024-03-26 20:51:50    2.5         62.0     2   \n",
       "2  4000653378 2024-03-26 21:52:37    2.0         58.0     3   \n",
       "3  4000381531 2024-03-26 22:44:33    1.5         40.0  None   \n",
       "4  4000263143 2024-03-26 20:52:41    2.5         50.0    99   \n",
       "\n",
       "        Availability ObjectType   YearBuilt   Price  AdditionalCost  NetPrice  \\\n",
       "0             Sofort    Wohnung  2020-01-01  1920.0             NaN    1920.0   \n",
       "1             Sofort    Wohnung  2017-01-01  1730.0           280.0    1450.0   \n",
       "2  Nach Vereinbarung    Wohnung        None   910.0           160.0     750.0   \n",
       "3             Sofort    Wohnung        None  1350.0           100.0    1250.0   \n",
       "4  Nach Vereinbarung    Wohnung        None  1300.0             NaN    1300.0   \n",
       "\n",
       "                             LocationId          PropertyAdditionalFeaturesId  \\\n",
       "0  8410960a-1d36-40e9-940c-045cb7ea0657  65f95f08-2ad6-46aa-88a8-3d60b251686d   \n",
       "1  fe87a1a0-0607-4532-91f9-9b52325d901c  47fb2685-0d55-4201-b7b2-65c7c4797f7a   \n",
       "2  c1e83bdc-405d-41b3-9836-92ecd15a3138  8cff0e4e-2acb-4d04-906b-d76a6ca54d17   \n",
       "3  eaf7aae5-0fd2-4063-ab10-1ef432b1fe71  b8b96c50-b41f-489a-a908-0ef31a44f60d   \n",
       "4  c9939627-0caf-4c2e-b11a-aee3bc6afad5  9b110e2e-24c6-4920-a41b-c46378f2e346   \n",
       "\n",
       "                                 PropertyDescription  \\\n",
       "0  La Residenza Delta si trova a Capolago, situat...   \n",
       "1  La Residenza Martina, progettata dall’Architet...   \n",
       "2  Affittasi 2 locali grazioso e luminoso in un q...   \n",
       "3  Siamo a Pazzallo, a circa 10 minuti dal centro...   \n",
       "4  A Bissone affittiamo appartamento arredato di ...   \n",
       "\n",
       "                     Vendor Canton                Street   ZIP longitude  \\\n",
       "0              Interfida SA     ti  Via Carlo Maderno 62  6825      None   \n",
       "1            Tarchini Group     ti  Via Indipendenza 10b  6826      None   \n",
       "2                  Livit AG     ti      Via Cereghetti 8  6834      None   \n",
       "3  Rusca Studio Immobiliare     ti                  None  6912      None   \n",
       "4    Zenit Real Estate Sagl     ti       Via Campione 65  6816      None   \n",
       "\n",
       "  latitude  \n",
       "0     None  \n",
       "1     None  \n",
       "2     None  \n",
       "3     None  \n",
       "4     None  "
      ]
     },
     "execution_count": 216,
     "metadata": {},
     "output_type": "execute_result"
    }
   ],
   "source": [
    "#Show head of df df_filtered_property_location\n",
    "df_filtered_property_location.head()"
   ]
  },
  {
   "cell_type": "code",
   "execution_count": 217,
   "id": "18b393c5",
   "metadata": {},
   "outputs": [
    {
     "name": "stdout",
     "output_type": "stream",
     "text": [
      "<class 'pandas.core.frame.DataFrame'>\n",
      "RangeIndex: 11295 entries, 0 to 11294\n",
      "Data columns (total 20 columns):\n",
      " #   Column                        Non-Null Count  Dtype         \n",
      "---  ------                        --------------  -----         \n",
      " 0   ListingId                     11295 non-null  object        \n",
      " 1   Timestamp                     11295 non-null  datetime64[ns]\n",
      " 2   Rooms                         10896 non-null  float64       \n",
      " 3   SquareMeter                   9296 non-null   float64       \n",
      " 4   Floor                         9578 non-null   object        \n",
      " 5   Availability                  11294 non-null  object        \n",
      " 6   ObjectType                    11294 non-null  object        \n",
      " 7   YearBuilt                     4969 non-null   object        \n",
      " 8   Price                         11295 non-null  float64       \n",
      " 9   AdditionalCost                9270 non-null   float64       \n",
      " 10  NetPrice                      10055 non-null  float64       \n",
      " 11  LocationId                    11295 non-null  object        \n",
      " 12  PropertyAdditionalFeaturesId  11295 non-null  object        \n",
      " 13  PropertyDescription           11225 non-null  object        \n",
      " 14  Vendor                        10557 non-null  object        \n",
      " 15  Canton                        11295 non-null  object        \n",
      " 16  Street                        10644 non-null  object        \n",
      " 17  ZIP                           11295 non-null  int64         \n",
      " 18  longitude                     0 non-null      object        \n",
      " 19  latitude                      0 non-null      object        \n",
      "dtypes: datetime64[ns](1), float64(5), int64(1), object(13)\n",
      "memory usage: 1.7+ MB\n"
     ]
    }
   ],
   "source": [
    "#Show info of df df_filtered_property_location. Total of 11295 entries\n",
    "df_filtered_property_location.info()"
   ]
  },
  {
   "cell_type": "code",
   "execution_count": 238,
   "id": "f8a5fa5c",
   "metadata": {},
   "outputs": [
    {
     "data": {
      "text/plain": [
       "0"
      ]
     },
     "execution_count": 238,
     "metadata": {},
     "output_type": "execute_result"
    }
   ],
   "source": [
    "#Check for duplicates - no duplicates found\n",
    "df_filtered_property_location.duplicated().sum()"
   ]
  },
  {
   "cell_type": "markdown",
   "id": "21d2a20d",
   "metadata": {},
   "source": [
    "# Check for empty entries and filter records"
   ]
  },
  {
   "cell_type": "code",
   "execution_count": 230,
   "id": "606c409f",
   "metadata": {},
   "outputs": [],
   "source": [
    "#dataframe df_filtered_property_location_clean  \n",
    "#ObjectType where Einzelzimmer, Estrichabteil, Hobbyraum, Kellerabteil - filtered\n",
    "#Rooms where NULL - filtered\n",
    "#SquareMeter where NULL - filtered\n",
    "#total: 9024 entries (original: 11295 entries)"
   ]
  },
  {
   "cell_type": "code",
   "execution_count": 239,
   "id": "d099a51b",
   "metadata": {},
   "outputs": [],
   "source": [
    "# filter out records with empty strings in the 'Rooms' column - new dataframe: df_filtered_property_location_clean\n",
    "df_filtered_property_location_clean = df_filtered_property_location[df_filtered_property_location['Rooms'].notna()]"
   ]
  },
  {
   "cell_type": "code",
   "execution_count": 240,
   "id": "b6e54047",
   "metadata": {},
   "outputs": [
    {
     "data": {
      "text/plain": [
       "ObjectType\n",
       "Attikawohnung             318\n",
       "Bauernhaus                  6\n",
       "Chalet                     40\n",
       "Dachwohnung               300\n",
       "Doppeleinfamilienhaus      28\n",
       "Einfamilienhaus           281\n",
       "Einliegerwohnung            9\n",
       "Einzelzimmer               98\n",
       "Estrichabteil               2\n",
       "Hobbyraum                 122\n",
       "Kellerabteil               11\n",
       "Loft                       71\n",
       "Maisonette / Duplex       359\n",
       "Mansarde                    1\n",
       "Mehrfamilienhaus            2\n",
       "Reihenfamilienhaus         58\n",
       "Studio                    151\n",
       "Terrassenhaus               4\n",
       "Terrassenwohnung           38\n",
       "Villa                      66\n",
       "Wohnung                  9329\n",
       "dtype: int64"
      ]
     },
     "execution_count": 240,
     "metadata": {},
     "output_type": "execute_result"
    }
   ],
   "source": [
    "#Check ObjectTypes\n",
    "df_filtered_property_location.groupby(\"ObjectType\").size()"
   ]
  },
  {
   "cell_type": "code",
   "execution_count": 291,
   "id": "9edce954",
   "metadata": {},
   "outputs": [
    {
     "data": {
      "text/plain": [
       "ObjectType\n",
       "Attikawohnung             318\n",
       "Bauernhaus                  6\n",
       "Chalet                     40\n",
       "Dachwohnung               300\n",
       "Doppeleinfamilienhaus      28\n",
       "Einfamilienhaus           281\n",
       "Einliegerwohnung            9\n",
       "Loft                       71\n",
       "Maisonette / Duplex       359\n",
       "Mansarde                    1\n",
       "Mehrfamilienhaus            2\n",
       "Reihenfamilienhaus         58\n",
       "Studio                    151\n",
       "Terrassenhaus               4\n",
       "Terrassenwohnung           38\n",
       "Villa                      66\n",
       "Wohnung                  9329\n",
       "dtype: int64"
      ]
     },
     "execution_count": 291,
     "metadata": {},
     "output_type": "execute_result"
    }
   ],
   "source": [
    "#Filter where ObjectType != Einzelzimmer, Estrichabteil, Hobbyraum or Kellerabteil\n",
    "df_filtered_property_location_clean = df_filtered_property_location[(df_filtered_property_location['ObjectType'] != 'Einzelzimmer') & (df_filtered_property_location['ObjectType'] != 'Estrichabteil') & (df_filtered_property_location['ObjectType'] != 'Hobbyraum') & (df_filtered_property_location['ObjectType'] != 'Kellerabteil')]\n",
    "\n",
    "#Check ObjectTypes - Einzelzimmer, Estrichabteil, Hobbyraum or Kellerabteil are filtered\n",
    "df_filtered_property_location_clean.groupby(\"ObjectType\").size()"
   ]
  },
  {
   "cell_type": "code",
   "execution_count": 294,
   "id": "37984ef9",
   "metadata": {},
   "outputs": [
    {
     "data": {
      "text/plain": [
       "ListingId                          0\n",
       "Timestamp                          0\n",
       "Rooms                              0\n",
       "SquareMeter                        0\n",
       "Floor                           1081\n",
       "Availability                       0\n",
       "ObjectType                         0\n",
       "YearBuilt                       4428\n",
       "Price                              0\n",
       "AdditionalCost                  1482\n",
       "NetPrice                         917\n",
       "LocationId                         0\n",
       "PropertyAdditionalFeaturesId       0\n",
       "PropertyDescription               37\n",
       "Vendor                           652\n",
       "Canton                             0\n",
       "Street                           550\n",
       "ZIP                                0\n",
       "longitude                       9024\n",
       "latitude                        9024\n",
       "dtype: int64"
      ]
     },
     "execution_count": 294,
     "metadata": {},
     "output_type": "execute_result"
    }
   ],
   "source": [
    "# filter out records with empty strings in the 'Rooms' and 'SquareMeters' column\n",
    "df_filtered_property_location_clean = df_filtered_property_location.dropna(subset=['Rooms', 'SquareMeter'])\n",
    "\n",
    "#Check for empty records\n",
    "df_filtered_property_location_clean.isnull().sum()"
   ]
  },
  {
   "cell_type": "code",
   "execution_count": 295,
   "id": "fdc4fe51",
   "metadata": {},
   "outputs": [
    {
     "name": "stdout",
     "output_type": "stream",
     "text": [
      "<class 'pandas.core.frame.DataFrame'>\n",
      "Index: 9024 entries, 0 to 11294\n",
      "Data columns (total 20 columns):\n",
      " #   Column                        Non-Null Count  Dtype         \n",
      "---  ------                        --------------  -----         \n",
      " 0   ListingId                     9024 non-null   object        \n",
      " 1   Timestamp                     9024 non-null   datetime64[ns]\n",
      " 2   Rooms                         9024 non-null   float64       \n",
      " 3   SquareMeter                   9024 non-null   float64       \n",
      " 4   Floor                         7943 non-null   object        \n",
      " 5   Availability                  9024 non-null   object        \n",
      " 6   ObjectType                    9024 non-null   object        \n",
      " 7   YearBuilt                     4596 non-null   object        \n",
      " 8   Price                         9024 non-null   float64       \n",
      " 9   AdditionalCost                7542 non-null   float64       \n",
      " 10  NetPrice                      8107 non-null   float64       \n",
      " 11  LocationId                    9024 non-null   object        \n",
      " 12  PropertyAdditionalFeaturesId  9024 non-null   object        \n",
      " 13  PropertyDescription           8987 non-null   object        \n",
      " 14  Vendor                        8372 non-null   object        \n",
      " 15  Canton                        9024 non-null   object        \n",
      " 16  Street                        8474 non-null   object        \n",
      " 17  ZIP                           9024 non-null   int64         \n",
      " 18  longitude                     0 non-null      object        \n",
      " 19  latitude                      0 non-null      object        \n",
      "dtypes: datetime64[ns](1), float64(5), int64(1), object(13)\n",
      "memory usage: 1.4+ MB\n"
     ]
    }
   ],
   "source": [
    "#9024 entries after filtered\n",
    "df_filtered_property_location_clean.info()"
   ]
  },
  {
   "cell_type": "code",
   "execution_count": 297,
   "id": "8b56f332",
   "metadata": {},
   "outputs": [
    {
     "data": {
      "image/png": "[encoded data removed]",
      "text/plain": [
       "<Figure size 700x400 with 1 Axes>"
      ]
     },
     "metadata": {},
     "output_type": "display_data"
    }
   ],
   "source": [
    "# Barchart top 10 ObjectTypes\n",
    "#Group data by ObjectType (only the topmost 10 values are shown)\n",
    "df_bar_property = df_filtered_property_location_clean['ObjectType'].value_counts().nlargest(10).sort_values(ascending=False)\n",
    "\n",
    "# Values for barchart\n",
    "napart = list(df_bar_property.values)\n",
    "index = list(df_bar_property.index.values)\n",
    "y_pos = np.arange(len(index))\n",
    "\n",
    "# Figure\n",
    "fig, ax = plt.subplots(figsize=(7,4))\n",
    "ax.barh(y_pos, napart, align='center', color='g', alpha=0.8)\n",
    "ax.set_yticks(y_pos, index)\n",
    "ax.set_xlabel('Number of Object Types', fontsize=10)\n",
    "ax.set_ylabel('ObjectTypes', fontsize=10)\n",
    "\n",
    "# Show graph\n",
    "plt.show()"
   ]
  },
  {
   "cell_type": "code",
   "execution_count": 364,
   "id": "8065fccc",
   "metadata": {},
   "outputs": [
    {
     "data": {
      "text/plain": [
       "<Axes: xlabel='SquareMeter'>"
      ]
     },
     "execution_count": 364,
     "metadata": {},
     "output_type": "execute_result"
    },
    {
     "data": {
      "image/png": "[encoded data removed]",
      "text/plain": [
       "<Figure size 800x120 with 1 Axes>"
      ]
     },
     "metadata": {},
     "output_type": "display_data"
    },
    {
     "data": {
      "image/png": "[encoded data removed]",
      "text/plain": [
       "<Figure size 800x120 with 1 Axes>"
      ]
     },
     "metadata": {},
     "output_type": "display_data"
    },
    {
     "data": {
      "image/png": "[encoded data removed]",
      "text/plain": [
       "<Figure size 800x120 with 1 Axes>"
      ]
     },
     "metadata": {},
     "output_type": "display_data"
    }
   ],
   "source": [
    "#Boxplots for Outliers of Prices, Rooms and SquareMeters\n",
    "plt.figure(figsize=(8,1.2))\n",
    "plt.ticklabel_format(style='plain')\n",
    "sns.boxplot(x=df_continuous['Price'], color=\"greenyellow\")\n",
    "\n",
    "plt.figure(figsize=(8,1.2))\n",
    "plt.ticklabel_format(style='plain')\n",
    "sns.boxplot(x=df_continuous['Rooms'], color=\"greenyellow\")\n",
    "\n",
    "plt.figure(figsize=(8,1.2))\n",
    "plt.ticklabel_format(style='plain')\n",
    "sns.boxplot(x=df_continuous['SquareMeter'], color=\"greenyellow\")"
   ]
  },
  {
   "cell_type": "code",
   "execution_count": 365,
   "id": "802f008f",
   "metadata": {},
   "outputs": [
    {
     "data": {
      "image/png": "[encoded data removed]",
      "text/plain": [
       "<Figure size 800x120 with 1 Axes>"
      ]
     },
     "metadata": {},
     "output_type": "display_data"
    }
   ],
   "source": [
    "#Show outlier for specific canton\n",
    "df_gr = df_filtered_property_location_clean[df_filtered_property_location_clean['Canton'] == 'gr']\n",
    "plt.figure(figsize=(8, 1.2))\n",
    "plt.ticklabel_format(style='plain')  # Stellt sicher, dass die Preise im normalen Zahlenformat angezeigt werden\n",
    "sns.boxplot(x=df_gr['Price'], color=\"greenyellow\")  # Erstellen des Boxplots mit der angegebenen Farbe\n",
    "\n",
    "plt.title('Preisausreisser für Kanton GR')  # Hinzufügen eines Titels zum Plot\n",
    "plt.xlabel('Preis')  # Beschriftung der X-Achse\n",
    "plt.show()"
   ]
  },
  {
   "cell_type": "code",
   "execution_count": 369,
   "id": "70f1d39b",
   "metadata": {},
   "outputs": [
    {
     "name": "stdout",
     "output_type": "stream",
     "text": [
      "842     4000785336\n",
      "846     4000702689\n",
      "1483    4000785338\n",
      "1494    4000924121\n",
      "1498    4000724258\n",
      "1525    4000785337\n",
      "1550    4000950371\n",
      "7401    4000637298\n",
      "7412    4000956535\n",
      "Name: ListingId, dtype: object\n"
     ]
    }
   ],
   "source": [
    "#show specific outlier for specific canton\n",
    "# Filtering the DataFrame to only include data for the canton 'gr'\n",
    "df_gr = df_filtered_property_location_clean[df_filtered_property_location_clean['Canton'] == 'gr']\n",
    "\n",
    "# Calculating the first (Q1) and third quartiles (Q3)\n",
    "Q1 = df_gr['Price'].quantile(0.25)\n",
    "Q3 = df_gr['Price'].quantile(0.75)\n",
    "IQR = Q3 - Q1\n",
    "\n",
    "# Defining the boundaries for outliers\n",
    "lower_bound = Q1 - 1.5 * IQR\n",
    "upper_bound = Q3 + 1.5 * IQR\n",
    "\n",
    "# Identifying the outliers\n",
    "outliers = df_gr[(df_gr['Price'] < lower_bound) | (df_gr['Price'] > upper_bound)]\n",
    "\n",
    "# Displaying the ListingsId of the outliers\n",
    "outliers_listing_ids = outliers['ListingId']\n",
    "print(outliers_listing_ids)\n"
   ]
  },
  {
   "cell_type": "code",
   "execution_count": null,
   "id": "fb1d9ba5",
   "metadata": {},
   "outputs": [],
   "source": [
    "#DOING: Outliers pro Kanton bereinigen? Falls ja dann in Code-Snippet in EDA rübernehmen"
   ]
  },
  {
   "cell_type": "markdown",
   "id": "5b034cdc",
   "metadata": {},
   "source": [
    "# Data Cleansing for PropertyAdditionalFeatures"
   ]
  },
  {
   "cell_type": "code",
   "execution_count": 268,
   "id": "97cd4849",
   "metadata": {},
   "outputs": [],
   "source": [
    "#Connection\n",
    "cnxn = pyodbc.connect(connection_string)\n",
    "sql = \"SELECT * FROM PropertyAdditionalFeatures\"\n",
    "df_data_PropertyAdditionalFeatures = pd.read_sql(sql,cnxn)  # without parameters [non-prepared statement]\n",
    "\n",
    "cnxn.close()"
   ]
  },
  {
   "cell_type": "code",
   "execution_count": 269,
   "id": "09336684",
   "metadata": {},
   "outputs": [
    {
     "data": {
      "text/html": [
       "<div>\n",
       "<style scoped>\n",
       "    .dataframe tbody tr th:only-of-type {\n",
       "        vertical-align: middle;\n",
       "    }\n",
       "\n",
       "    .dataframe tbody tr th {\n",
       "        vertical-align: top;\n",
       "    }\n",
       "\n",
       "    .dataframe thead th {\n",
       "        text-align: right;\n",
       "    }\n",
       "</style>\n",
       "<table border=\"1\" class=\"dataframe\">\n",
       "  <thead>\n",
       "    <tr style=\"text-align: right;\">\n",
       "      <th></th>\n",
       "      <th>ListingId</th>\n",
       "      <th>Feature</th>\n",
       "    </tr>\n",
       "  </thead>\n",
       "  <tbody>\n",
       "    <tr>\n",
       "      <th>0</th>\n",
       "      <td>044f5ac4-3a33-436e-a004-09a0a6855fbf</td>\n",
       "      <td>Kinderfreundlich</td>\n",
       "    </tr>\n",
       "    <tr>\n",
       "      <th>1</th>\n",
       "      <td>044f5ac4-3a33-436e-a004-09a0a6855fbf</td>\n",
       "      <td>Parkplatz</td>\n",
       "    </tr>\n",
       "    <tr>\n",
       "      <th>2</th>\n",
       "      <td>b30f81ac-a527-4996-9d69-2522870131c6</td>\n",
       "      <td>Haustiere erlaubt</td>\n",
       "    </tr>\n",
       "    <tr>\n",
       "      <th>3</th>\n",
       "      <td>b30f81ac-a527-4996-9d69-2522870131c6</td>\n",
       "      <td>Balkon / Terrasse</td>\n",
       "    </tr>\n",
       "    <tr>\n",
       "      <th>4</th>\n",
       "      <td>b30f81ac-a527-4996-9d69-2522870131c6</td>\n",
       "      <td>Kabel-TV</td>\n",
       "    </tr>\n",
       "  </tbody>\n",
       "</table>\n",
       "</div>"
      ],
      "text/plain": [
       "                              ListingId            Feature\n",
       "0  044f5ac4-3a33-436e-a004-09a0a6855fbf   Kinderfreundlich\n",
       "1  044f5ac4-3a33-436e-a004-09a0a6855fbf          Parkplatz\n",
       "2  b30f81ac-a527-4996-9d69-2522870131c6  Haustiere erlaubt\n",
       "3  b30f81ac-a527-4996-9d69-2522870131c6  Balkon / Terrasse\n",
       "4  b30f81ac-a527-4996-9d69-2522870131c6           Kabel-TV"
      ]
     },
     "execution_count": 269,
     "metadata": {},
     "output_type": "execute_result"
    }
   ],
   "source": [
    "#Show header of table\n",
    "df_data_PropertyAdditionalFeatures.head()"
   ]
  },
  {
   "cell_type": "code",
   "execution_count": 271,
   "id": "5134dbf1",
   "metadata": {},
   "outputs": [
    {
     "data": {
      "text/plain": [
       "0"
      ]
     },
     "execution_count": 271,
     "metadata": {},
     "output_type": "execute_result"
    }
   ],
   "source": [
    "# Check for duplicates - no duplicates found\n",
    "df_data_PropertyAdditionalFeatures.duplicated()\n",
    "df_data_PropertyAdditionalFeatures.duplicated().sum()"
   ]
  },
  {
   "cell_type": "code",
   "execution_count": 272,
   "id": "329b1ea2",
   "metadata": {},
   "outputs": [
    {
     "data": {
      "text/plain": [
       "ListingId    0\n",
       "Feature      0\n",
       "dtype: int64"
      ]
     },
     "execution_count": 272,
     "metadata": {},
     "output_type": "execute_result"
    }
   ],
   "source": [
    "# Check for empty entries - no empty entries found\n",
    "df_data_PropertyAdditionalFeatures.isnull().sum()"
   ]
  }
 ],
 "metadata": {
  "celltoolbar": "Edit Metadata",
  "kernelspec": {
   "display_name": "Python 3 (ipykernel)",
   "language": "python",
   "name": "python3"
  },
  "language_info": {
   "codemirror_mode": {
    "name": "ipython",
    "version": 3
   },
   "file_extension": ".py",
   "mimetype": "text/x-python",
   "name": "python",
   "nbconvert_exporter": "python",
   "pygments_lexer": "ipython3",
   "version": "3.11.4"
  }
 },
 "nbformat": 4,
 "nbformat_minor": 5
}
