{
 "cells": [
  {
   "cell_type": "markdown",
   "metadata": {},
   "source": [
    "<h1>NLP</h1>"
   ]
  },
  {
   "cell_type": "code",
   "execution_count": 6,
   "metadata": {},
   "outputs": [
    {
     "name": "stdout",
     "output_type": "stream",
     "text": [
      "c:\\Users\\AnninaBerweger\\datascience-immo\\Immo-Projekt-DataScience\n"
     ]
    },
    {
     "name": "stderr",
     "output_type": "stream",
     "text": [
      "[nltk_data] Downloading package punkt to\n",
      "[nltk_data]     C:\\Users\\AnninaBerweger\\AppData\\Roaming\\nltk_data...\n",
      "[nltk_data]   Package punkt is already up-to-date!\n",
      "[nltk_data] Downloading package averaged_perceptron_tagger to\n",
      "[nltk_data]     C:\\Users\\AnninaBerweger\\AppData\\Roaming\\nltk_data...\n",
      "[nltk_data]   Package averaged_perceptron_tagger is already up-to-\n",
      "[nltk_data]       date!\n",
      "[nltk_data] Downloading package brown to\n",
      "[nltk_data]     C:\\Users\\AnninaBerweger\\AppData\\Roaming\\nltk_data...\n",
      "[nltk_data]   Package brown is already up-to-date!\n"
     ]
    }
   ],
   "source": [
    "# Load the libraries\n",
    "import pandas as pd\n",
    "import numpy as np\n",
    "import matplotlib.pyplot as plt\n",
    "import pyodbc\n",
    "import os\n",
    "import seaborn as sns\n",
    "import statsmodels.api as sm\n",
    "import pylab as py\n",
    "import folium\n",
    "from folium.plugins import HeatMap\n",
    "\n",
    "import nltk\n",
    "nltk.download('punkt')\n",
    "nltk.download('averaged_perceptron_tagger')\n",
    "nltk.download('brown')\n",
    "\n",
    "from textblob import TextBlob\n",
    "\n",
    "# seaborn graphics settings\n",
    "sns.set(color_codes=True)\n",
    "\n",
    "# Ignore warnings\n",
    "import warnings\n",
    "warnings.filterwarnings(\"ignore\")\n",
    "\n",
    "# Show current working directory\n",
    "print(os.getcwd())\n",
    "\n",
    "# Querying the cleaned property table\n",
    "# Pfad zur CSV-Datei angeben\n",
    "file_path = r'C:\\Users\\AnninaBerweger\\datascience-immo\\Immo-Projekt-DataScience\\filtered_property_location_clean.csv'\n",
    "\n",
    "try:\n",
    "    # Versuche, die CSV-Datei einzulesen mit dem spezifizierten Trennzeichen und Fehlerbehandlung\n",
    "    df_filtered_property_location_clean = pd.read_csv(file_path, sep=';', quotechar='\"', on_bad_lines='skip')\n",
    "except Exception as e:\n",
    "    print(\"Ein Fehler ist aufgetreten:\", e)"
   ]
  },
  {
   "cell_type": "code",
   "execution_count": 7,
   "metadata": {},
   "outputs": [
    {
     "name": "stdout",
     "output_type": "stream",
     "text": [
      "                                  PropertyDescription  polarity  subjectivity\n",
      "0   La Residenza Delta si trova a Capolago, situat... -0.062500      0.312500\n",
      "1   La Residenza Martina, progettata dall’Architet...  0.000000      0.000000\n",
      "2   Affittasi 2 locali grazioso e luminoso in un q...  0.000000      0.500000\n",
      "3   Siamo a Pazzallo, a circa 10 minuti dal centro...  0.000000      0.000000\n",
      "4   A Bissone affittiamo appartamento arredato di ...  0.000000      0.000000\n",
      "5   Sei alla ricerca di un ufficio / spazio commer...  0.000000      0.000000\n",
      "6   Luminoso 3.5 locali ristrutturatoCaslano, a po...  0.000000      0.000000\n",
      "7                                                 NaN  0.000000      0.000000\n",
      "8   Da subito affittiamo bilocali in ottima posizi...  0.000000      0.000000\n",
      "9   Residenza 2 Grappoli - GudoAppartamento 32 al ...  0.000000      0.000000\n",
      "10  Affittiamo nelle dirette vicinanze del lago e ...  0.000000      0.000000\n",
      "11  Affittiamo recente appartamento di 3,5 locali ... -0.125000      0.375000\n",
      "12  Erstbezug nach Voll-RenovationMöbliert, ausges...  0.000000      0.000000\n",
      "13  Geniessen Sie eine herrliche Weitsicht auf Ihr... -0.700000      0.666667\n",
      "14  Das Projekt, Generationenwohnen im Zentrum von...  0.000000      0.000000\n",
      "15  Vi proponiamo un luminoso e ampio 3.5 locali s...  0.416667      0.500000\n",
      "16  Suchen Sie ein modernes und gemütliches Zuhaus...  0.000000      0.000000\n",
      "17  gemütliche 4.5-Zimmerwohnung mit herrlicher Au...  0.000000      0.000000\n",
      "18  Nel cuore di Morbio inferiore, a pochi minuti ...  0.000000      0.000000\n",
      "19  Appartamento da 2.5 locali da ca. 53 mq. press...  0.000000      0.000000\n",
      "20  Bellissimo appartamento di 4.5 locali a Montag... -0.041667      0.375000\n",
      "21  Wir vermieten per 01. Juni 2024 oder nach Vere... -0.700000      0.666667\n",
      "22  A louer à Rue Fritz-Courvoisier 38, 2300 La Ch...  0.333333      0.750000\n",
      "23  A pochi minuti a piedi dalla stazione FFS e av...  0.000000      0.000000\n",
      "24  Nella residenza Villa Gioia, proponiamo in aff...  0.187500      0.687500\n",
      "25  Affittasi a Minusio, Via San Gottardo 175 un a...  0.000000      0.000000\n",
      "26  In einer gepflegten Wohnsiedlung steht diese k...  0.000000      0.000000\n",
      "27  Questo appartamento presenta un layout ben pro... -0.125000      0.375000\n",
      "28  LIBERO DA SUBITODa affittare appartamento di 9... -0.125000      0.375000\n",
      "29  Das Wettsteinquartier liegt im Kleinbasel am R...  0.000000      0.000000\n",
      "30  Lassen Sie sich von dieser schönen Wohnung beg... -0.700000      0.666667\n",
      "31  interessante appartamento senza barriere archi...  0.000000      0.000000\n",
      "32  A Savosa, Via San Gottardo 139A, proponiamo be... -0.062500      0.437500\n",
      "33  In una piccola palazzina immersa nel verde, af...  0.000000      0.000000\n",
      "34  Appartement de 3.5 pièces dans le complexe de ...  0.000000      0.000000\n",
      "35  Nel Gambarogno, comune di Piazzogna, affitto n... -0.093750      0.343750\n",
      "36  A Stabio nella prossimità di scuole, stazione,... -0.125000      0.375000\n",
      "37  ACCOGLIENTE 3.5 IN ZONA TRANQUILLA A LOCARNOVa...  0.000000      0.000000\n",
      "38  La nuova Residenza Solaia si situa in una como... -0.050000      0.075000\n",
      "39  In un prestigioso edificio della rinomata Via ...  0.000000      0.000000\n",
      "40  Diese geräumige 5.5-Zimmerwohnung bietet alles...  0.000000      0.000000\n",
      "41  In palazzina di recente costruzione di sole 3 ... -0.083333      0.333333\n",
      "42  Affittiamo elegante e moderno appartamento cos...  0.000000      0.000000\n",
      "43  Wir vermieten per sofort oder nach Vereinbarun...  0.000000      0.000000\n",
      "44  Questa bellissima Maisonette appartamento di 3... -0.125000      0.375000\n",
      "45  \"Wunderschöne Wohnung an bester Lage in Oberku...  0.000000      0.000000\n",
      "46  A Novazzano, residenziale e soleggiato comune ...  0.000000      0.333333\n",
      "47  Wir vermieten in der Hauptstrasse 8 in Brugg e...  0.375000      0.750000\n",
      "48  Cogli l’opportunità di esplorare il tuo rifugi...  0.000000      0.000000\n",
      "49  Garaverio a 7 km da Lugano, in Vicolo Al Molin... -0.125000      0.375000\n"
     ]
    }
   ],
   "source": [
    "# Ersetze Nicht-Wörter, führe eine untere Normalisierung durch und behandle fehlende Werte\n",
    "df_filtered_property_location_clean['cleaned_description'] = df_filtered_property_location_clean['PropertyDescription'].astype(str).str.lower().str.replace('[^\\w\\s]', '', regex=True)\n",
    "\n",
    "# Funktion zur Berechnung der Sentiment-Werte\n",
    "def calculate_sentiment(text):\n",
    "    if text:  # Überprüfen, ob der Text nicht leer ist\n",
    "        blob = TextBlob(text)\n",
    "        return blob.sentiment.polarity, blob.sentiment.subjectivity\n",
    "    else:\n",
    "        return 0, 0  # Zurückgeben neutraler Werte, wenn kein Text vorhanden ist\n",
    "\n",
    "# Anwenden der Sentiment-Analyse auf jede Beschreibung\n",
    "df_filtered_property_location_clean[['polarity', 'subjectivity']] = df_filtered_property_location_clean['cleaned_description'].apply(\n",
    "    lambda x: pd.Series(calculate_sentiment(x))\n",
    ")\n",
    "\n",
    "# Anzeigen einiger Ergebnisse zur Überprüfung\n",
    "print(df_filtered_property_location_clean[['PropertyDescription', 'polarity', 'subjectivity']].head(50))\n"
   ]
  },
  {
   "cell_type": "markdown",
   "metadata": {},
   "source": []
  }
 ],
 "metadata": {
  "kernelspec": {
   "display_name": "Python 3",
   "language": "python",
   "name": "python3"
  },
  "language_info": {
   "codemirror_mode": {
    "name": "ipython",
    "version": 3
   },
   "file_extension": ".py",
   "mimetype": "text/x-python",
   "name": "python",
   "nbconvert_exporter": "python",
   "pygments_lexer": "ipython3",
   "version": "3.11.5"
  }
 },
 "nbformat": 4,
 "nbformat_minor": 2
}
