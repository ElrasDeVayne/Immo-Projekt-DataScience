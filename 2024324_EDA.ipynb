{
 "cells": [
  {
   "cell_type": "code",
   "execution_count": 8,
   "id": "7b725d76",
   "metadata": {},
   "outputs": [],
   "source": [
    "#pip install seaborn\n",
    "#pip install pyodbc\n",
    "#pip install pandas"
   ]
  },
  {
   "cell_type": "code",
   "execution_count": 12,
   "id": "2408dded",
   "metadata": {},
   "outputs": [
    {
     "name": "stdout",
     "output_type": "stream",
     "text": [
      "C:\\Users\\AnninaBerweger\\datascience-immo\\Immo-Projekt-DataScience\n"
     ]
    }
   ],
   "source": [
    "# Libraries\n",
    "import os\n",
    "import pandas as pd\n",
    "import pyodbc\n",
    "import numpy as np\n",
    "import seaborn as sns\n",
    "import matplotlib.pyplot as plt\n",
    "import statsmodels.api as sm\n",
    "import pylab as py\n",
    "\n",
    "# seaborn graphics settings\n",
    "sns.set(color_codes=True)\n",
    "\n",
    "# Ignore warnings\n",
    "import warnings\n",
    "warnings.filterwarnings(\"ignore\")\n",
    "\n",
    "# Show current working directory\n",
    "print(os.getcwd())"
   ]
  },
  {
   "cell_type": "code",
   "execution_count": 13,
   "id": "fdec3fcd",
   "metadata": {},
   "outputs": [],
   "source": [
    "# Replace the following strings with your own details\n",
    "driver = '{ODBC Driver 17 for SQL Server}' # This might be a different version on your system\n",
    "server = 'tcp:immozhaw.database.windows.net,1433'\n",
    "database = 'Immo'\n",
    "username = 'immoadmin'\n",
    "password = 'zhaw$1234'\n",
    "connection_string = f\"DRIVER={driver};SERVER={server};DATABASE={database};UID={username};PWD={password}\"\n",
    "\n",
    "cnxn = pyodbc.connect(connection_string)\n",
    "sql = \"SELECT * FROM property\"\n",
    "df_data = pd.read_sql(sql,cnxn)  # without parameters [non-prepared statement]\n",
    "\n",
    "cnxn.close()"
   ]
  },
  {
   "cell_type": "code",
   "execution_count": 14,
   "id": "26e6d24f",
   "metadata": {},
   "outputs": [],
   "source": [
    "# data cleansing - Vorschlag: direkt in DB machen\n",
    "# API: Koordinaten holen und direkt in DB schreiben - dbo.Location bereits mit zwei Spalten dafür vorbereitet longitude und latitude\n"
   ]
  },
  {
   "cell_type": "code",
   "execution_count": 15,
   "id": "e575d387",
   "metadata": {},
   "outputs": [
    {
     "data": {
      "text/html": [
       "<div>\n",
       "<style scoped>\n",
       "    .dataframe tbody tr th:only-of-type {\n",
       "        vertical-align: middle;\n",
       "    }\n",
       "\n",
       "    .dataframe tbody tr th {\n",
       "        vertical-align: top;\n",
       "    }\n",
       "\n",
       "    .dataframe thead th {\n",
       "        text-align: right;\n",
       "    }\n",
       "</style>\n",
       "<table border=\"1\" class=\"dataframe\">\n",
       "  <thead>\n",
       "    <tr style=\"text-align: right;\">\n",
       "      <th></th>\n",
       "      <th>ListingId</th>\n",
       "      <th>Timestamp</th>\n",
       "      <th>Rooms</th>\n",
       "      <th>SquareMeter</th>\n",
       "      <th>Floor</th>\n",
       "      <th>Availability</th>\n",
       "      <th>ObjectType</th>\n",
       "      <th>YearBuilt</th>\n",
       "      <th>Price</th>\n",
       "      <th>AdditionalCost</th>\n",
       "      <th>NetPrice</th>\n",
       "      <th>LocationId</th>\n",
       "      <th>PropertyAdditionalFeaturesId</th>\n",
       "      <th>PropertyDescription</th>\n",
       "      <th>Vendor</th>\n",
       "      <th>Canton</th>\n",
       "    </tr>\n",
       "  </thead>\n",
       "  <tbody>\n",
       "    <tr>\n",
       "      <th>0</th>\n",
       "      <td>4000611984</td>\n",
       "      <td>2024-03-24 00:42:15</td>\n",
       "      <td>2.0</td>\n",
       "      <td>50.0</td>\n",
       "      <td>2</td>\n",
       "      <td>Sofort</td>\n",
       "      <td>Wohnung</td>\n",
       "      <td>2024-01-01</td>\n",
       "      <td>3000.0</td>\n",
       "      <td>NaN</td>\n",
       "      <td>NaN</td>\n",
       "      <td>8eccecd4-d9a9-4e35-ad75-cb88484608a1</td>\n",
       "      <td>dc625d62-a8e7-4eca-b630-6064ce21d0d2</td>\n",
       "      <td>Ideally located with excellent transport links...</td>\n",
       "      <td>ATHOMESWITZERLAND SARL</td>\n",
       "      <td>zh</td>\n",
       "    </tr>\n",
       "    <tr>\n",
       "      <th>1</th>\n",
       "      <td>4000951176</td>\n",
       "      <td>2024-03-24 00:42:37</td>\n",
       "      <td>1.5</td>\n",
       "      <td>56.0</td>\n",
       "      <td>4</td>\n",
       "      <td>01.07.2024</td>\n",
       "      <td>Wohnung</td>\n",
       "      <td>None</td>\n",
       "      <td>3020.0</td>\n",
       "      <td>130.0</td>\n",
       "      <td>2890.0</td>\n",
       "      <td>1b0fd467-945d-445f-ad0e-72a77e293bd8</td>\n",
       "      <td>b1ef393b-c7c6-43bb-ab2e-8a8e2b2204af</td>\n",
       "      <td>Willkommen im ONE O TWO! Sie wollten schon imm...</td>\n",
       "      <td>Privera AG</td>\n",
       "      <td>zh</td>\n",
       "    </tr>\n",
       "    <tr>\n",
       "      <th>2</th>\n",
       "      <td>4000934345</td>\n",
       "      <td>2024-03-24 01:37:33</td>\n",
       "      <td>4.5</td>\n",
       "      <td>107.0</td>\n",
       "      <td>2</td>\n",
       "      <td>Nach Vereinbarung</td>\n",
       "      <td>Wohnung</td>\n",
       "      <td>1945-01-01</td>\n",
       "      <td>2025.0</td>\n",
       "      <td>280.0</td>\n",
       "      <td>1745.0</td>\n",
       "      <td>bf191b34-1676-41a8-bc9a-ed2a07df2f95</td>\n",
       "      <td>56de5af2-2ed5-4fa0-af7f-f2da313e5be0</td>\n",
       "      <td>Wir vermieten per sofort oder nach Vereinbarun...</td>\n",
       "      <td>Wincasa AG</td>\n",
       "      <td>zh</td>\n",
       "    </tr>\n",
       "    <tr>\n",
       "      <th>3</th>\n",
       "      <td>4000460319</td>\n",
       "      <td>2024-03-24 15:32:10</td>\n",
       "      <td>5.5</td>\n",
       "      <td>132.0</td>\n",
       "      <td>None</td>\n",
       "      <td>Sofort</td>\n",
       "      <td>Einfamilienhaus</td>\n",
       "      <td>None</td>\n",
       "      <td>2850.0</td>\n",
       "      <td>NaN</td>\n",
       "      <td>2850.0</td>\n",
       "      <td>57b781fc-334f-4842-b33a-2f14c1bc609c</td>\n",
       "      <td>ce625d80-65ae-425b-bb6c-4eb055f01b31</td>\n",
       "      <td></td>\n",
       "      <td>Zimba AG</td>\n",
       "      <td>sg</td>\n",
       "    </tr>\n",
       "    <tr>\n",
       "      <th>4</th>\n",
       "      <td>4000911171</td>\n",
       "      <td>2024-03-24 00:42:48</td>\n",
       "      <td>3.5</td>\n",
       "      <td>83.0</td>\n",
       "      <td>7</td>\n",
       "      <td>16.07.2024</td>\n",
       "      <td>Wohnung</td>\n",
       "      <td>2007-01-01</td>\n",
       "      <td>2610.0</td>\n",
       "      <td>290.0</td>\n",
       "      <td>2320.0</td>\n",
       "      <td>a7e203c7-508f-428a-99a4-6fe0fe34b881</td>\n",
       "      <td>f5e8a915-632f-4d83-8c6e-6cb5a2da07ca</td>\n",
       "      <td>In der einzigartigen Überbauung James Albisrie...</td>\n",
       "      <td>Livit AG</td>\n",
       "      <td>zh</td>\n",
       "    </tr>\n",
       "  </tbody>\n",
       "</table>\n",
       "</div>"
      ],
      "text/plain": [
       "    ListingId           Timestamp  Rooms  SquareMeter Floor  \\\n",
       "0  4000611984 2024-03-24 00:42:15    2.0         50.0     2   \n",
       "1  4000951176 2024-03-24 00:42:37    1.5         56.0     4   \n",
       "2  4000934345 2024-03-24 01:37:33    4.5        107.0     2   \n",
       "3  4000460319 2024-03-24 15:32:10    5.5        132.0  None   \n",
       "4  4000911171 2024-03-24 00:42:48    3.5         83.0     7   \n",
       "\n",
       "        Availability       ObjectType   YearBuilt   Price  AdditionalCost  \\\n",
       "0             Sofort          Wohnung  2024-01-01  3000.0             NaN   \n",
       "1         01.07.2024          Wohnung        None  3020.0           130.0   \n",
       "2  Nach Vereinbarung          Wohnung  1945-01-01  2025.0           280.0   \n",
       "3             Sofort  Einfamilienhaus        None  2850.0             NaN   \n",
       "4         16.07.2024          Wohnung  2007-01-01  2610.0           290.0   \n",
       "\n",
       "   NetPrice                            LocationId  \\\n",
       "0       NaN  8eccecd4-d9a9-4e35-ad75-cb88484608a1   \n",
       "1    2890.0  1b0fd467-945d-445f-ad0e-72a77e293bd8   \n",
       "2    1745.0  bf191b34-1676-41a8-bc9a-ed2a07df2f95   \n",
       "3    2850.0  57b781fc-334f-4842-b33a-2f14c1bc609c   \n",
       "4    2320.0  a7e203c7-508f-428a-99a4-6fe0fe34b881   \n",
       "\n",
       "           PropertyAdditionalFeaturesId  \\\n",
       "0  dc625d62-a8e7-4eca-b630-6064ce21d0d2   \n",
       "1  b1ef393b-c7c6-43bb-ab2e-8a8e2b2204af   \n",
       "2  56de5af2-2ed5-4fa0-af7f-f2da313e5be0   \n",
       "3  ce625d80-65ae-425b-bb6c-4eb055f01b31   \n",
       "4  f5e8a915-632f-4d83-8c6e-6cb5a2da07ca   \n",
       "\n",
       "                                 PropertyDescription                  Vendor  \\\n",
       "0  Ideally located with excellent transport links...  ATHOMESWITZERLAND SARL   \n",
       "1  Willkommen im ONE O TWO! Sie wollten schon imm...              Privera AG   \n",
       "2  Wir vermieten per sofort oder nach Vereinbarun...              Wincasa AG   \n",
       "3                                                                   Zimba AG   \n",
       "4  In der einzigartigen Überbauung James Albisrie...                Livit AG   \n",
       "\n",
       "  Canton  \n",
       "0     zh  \n",
       "1     zh  \n",
       "2     zh  \n",
       "3     sg  \n",
       "4     zh  "
      ]
     },
     "execution_count": 15,
     "metadata": {},
     "output_type": "execute_result"
    }
   ],
   "source": [
    "df_data.head()"
   ]
  },
  {
   "cell_type": "code",
   "execution_count": 16,
   "id": "b5776600",
   "metadata": {},
   "outputs": [
    {
     "data": {
      "text/plain": [
       "<Axes: xlabel='Canton', ylabel='Price'>"
      ]
     },
     "execution_count": 16,
     "metadata": {},
     "output_type": "execute_result"
    },
    {
     "data": {
      "image/png": "[encoded data removed]",
      "text/plain": [
       "<Figure size 640x480 with 1 Axes>"
      ]
     },
     "metadata": {},
     "output_type": "display_data"
    }
   ],
   "source": [
    "sns.barplot(x=\"Canton\", y=\"Price\", data=df_data)\n"
   ]
  },
  {
   "cell_type": "code",
   "execution_count": 17,
   "id": "832699df",
   "metadata": {},
   "outputs": [
    {
     "data": {
      "text/plain": [
       "<Axes: xlabel='Canton', ylabel='Price'>"
      ]
     },
     "execution_count": 17,
     "metadata": {},
     "output_type": "execute_result"
    },
    {
     "data": {
      "image/png": "[encoded data removed]",
      "text/plain": [
       "<Figure size 640x480 with 1 Axes>"
      ]
     },
     "metadata": {},
     "output_type": "display_data"
    }
   ],
   "source": [
    "sns.barplot(x=\"Canton\", y=\"Price\", data=df_data)"
   ]
  },
  {
   "cell_type": "code",
   "execution_count": null,
   "id": "fd303ae1",
   "metadata": {},
   "outputs": [],
   "source": [
    "#weitere Beispiele EDA: \n",
    "#https://github.com/aberweger/Explorative_Data_Analysis_and_Visualization/blob/master/exploratory_data_analysis_apartments_data.ipynb\n",
    "#https://seaborn.pydata.org/archive/0.11/generated/seaborn.barplot.html\n",
    "#https://medium.com/analytics-vidhya/apartment-market-web-scrapping-and-eda-using-python-a9eacf6d64e2\n",
    "#https://www.kaggle.com/code/dgawlik/house-prices-eda\n"
   ]
  }
 ],
 "metadata": {
  "kernelspec": {
   "display_name": "Python 3 (ipykernel)",
   "language": "python",
   "name": "python3"
  },
  "language_info": {
   "codemirror_mode": {
    "name": "ipython",
    "version": 3
   },
   "file_extension": ".py",
   "mimetype": "text/x-python",
   "name": "python",
   "nbconvert_exporter": "python",
   "pygments_lexer": "ipython3",
   "version": "3.11.4"
  }
 },
 "nbformat": 4,
 "nbformat_minor": 5
}
